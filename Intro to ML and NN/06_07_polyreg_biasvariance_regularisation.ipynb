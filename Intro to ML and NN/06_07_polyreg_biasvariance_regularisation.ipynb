{
  "cells": [
    {
      "cell_type": "markdown",
      "metadata": {
        "id": "view-in-github",
        "colab_type": "text"
      },
      "source": [
        "<a href=\"https://colab.research.google.com/github/aamir-ansari-44/Study/blob/main/Intro%20to%20ML%20and%20NN/06_07_polyreg_biasvariance_regularisation.ipynb\" target=\"_parent\"><img src=\"https://colab.research.google.com/assets/colab-badge.svg\" alt=\"Open In Colab\"/></a>"
      ]
    },
    {
      "cell_type": "markdown",
      "metadata": {
        "id": "6ARh47anA2fL"
      },
      "source": [
        "## **Regularization**"
      ]
    },
    {
      "cell_type": "markdown",
      "source": [
        "#### Which features are useful to have a perfectly fit model?"
      ],
      "metadata": {
        "id": "_NH-FvnzE80N"
      }
    },
    {
      "cell_type": "markdown",
      "source": [
        "\n",
        "\n",
        "<center><img src='https://d2beiqkhq929f0.cloudfront.net/public_assets/assets/000/043/112/original/Screenshot_2023-08-16_at_6.54.12_PM.png?1692192581_' width=800></center>\n",
        "\n",
        "\n"
      ],
      "metadata": {
        "id": "dt3-tOYwEeZF"
      }
    },
    {
      "cell_type": "markdown",
      "source": [
        "\n",
        "\n",
        "<center><img src='https://d2beiqkhq929f0.cloudfront.net/public_assets/assets/000/043/113/original/Screenshot_2023-08-16_at_6.54.20_PM.png?1692192624' width=800></center>\n",
        "\n",
        "\n",
        "\n"
      ],
      "metadata": {
        "id": "jOC28B2AFSiI"
      }
    },
    {
      "cell_type": "markdown",
      "metadata": {
        "id": "tkPpi5e_W147"
      },
      "source": [
        "#### Understanding the new Loss function"
      ]
    },
    {
      "cell_type": "markdown",
      "source": [
        "\n",
        "\n",
        "<center><img src='https://d2beiqkhq929f0.cloudfront.net/public_assets/assets/000/043/114/original/Screenshot_2023-08-16_at_6.54.27_PM.png?1692192643' width=800></center>\n",
        "\n",
        "\n",
        "\n"
      ],
      "metadata": {
        "id": "iHFQbFK4F5RU"
      }
    },
    {
      "cell_type": "markdown",
      "metadata": {
        "id": "58MobVOXW1TZ"
      },
      "source": [
        "#### How to get that sweet spot between loss function and Regularization ?"
      ]
    },
    {
      "cell_type": "markdown",
      "source": [
        "\n",
        "\n",
        "<center><img src='https://d2beiqkhq929f0.cloudfront.net/public_assets/assets/000/043/115/original/Screenshot_2023-08-16_at_6.54.34_PM.png?1692192678' width=800></center>\n",
        "\n",
        "\n"
      ],
      "metadata": {
        "id": "NGeJOTT_JAnn"
      }
    },
    {
      "cell_type": "markdown",
      "metadata": {
        "id": "DB-OfGlEeRss"
      },
      "source": [
        "\n",
        "\n",
        "#### How does $\\lambda$ creates that sweet spot between MSE and Regularization term ?\n",
        "\n",
        "Ans: With a **right $\\lambda$ value** :\n",
        "\n",
        "1. There is **enough freedom to MSE** so that:\n",
        "  - The **weights are  optimized** to reach the **lowest possible MSE value**\n",
        "  - Which **does not lead to overfitting**\n",
        "\n",
        "2. It also provide **enough freedom to Regularization term** so that:\n",
        " - The regularization term can make the weights of the model close to 0\n",
        " - Which **does not lead to underfitting**\n",
        "\n",
        "<br>\n",
        "\n",
        "**Note:** The term $w_j^2$ is called as L2/Ridge Regularization\n",
        "\n"
      ]
    },
    {
      "cell_type": "markdown",
      "source": [
        "## **Points to Remember**"
      ],
      "metadata": {
        "id": "1m0jgJ-1jBXi"
      }
    },
    {
      "cell_type": "markdown",
      "source": [
        "\n",
        "\n",
        "<center><img src='https://d2beiqkhq929f0.cloudfront.net/public_assets/assets/000/043/117/original/Screenshot_2023-08-16_at_6.54.48_PM.png?1692192728' width=800></center>\n",
        "\n",
        "\n"
      ],
      "metadata": {
        "id": "RTp076ojJ5iW"
      }
    },
    {
      "cell_type": "markdown",
      "metadata": {
        "id": "-1F5sBngzYxs"
      },
      "source": [
        "## **L-1 Regularization**"
      ]
    },
    {
      "cell_type": "markdown",
      "metadata": {
        "id": "O9NTYwDFxWuc"
      },
      "source": [
        "#### What do you think, will $\\sum_{j=1}^{d} |w_j|$ work ?"
      ]
    },
    {
      "cell_type": "markdown",
      "source": [
        "\n",
        "\n",
        "<center><img src='https://d2beiqkhq929f0.cloudfront.net/public_assets/assets/000/043/120/original/Screenshot_2023-08-16_at_6.55.09_PM.png?1692192872' width=800></center>\n",
        "\n",
        "\n",
        "\n"
      ],
      "metadata": {
        "id": "2SrXXNv8K5N3"
      }
    },
    {
      "cell_type": "markdown",
      "source": [
        "<center><img src=https://d2beiqkhq929f0.cloudfront.net/public_assets/assets/000/043/123/original/Screenshot_2023-08-16_at_7.33.45_PM.png?1692194777 width=800></center>"
      ],
      "metadata": {
        "id": "L1I9RHwDqv4p"
      }
    },
    {
      "cell_type": "markdown",
      "metadata": {
        "id": "fxr9ye1XztsL"
      },
      "source": [
        "## **Interesting property of L1 and L2 Reg**"
      ]
    },
    {
      "cell_type": "markdown",
      "metadata": {
        "id": "hYBhHsRv80LP"
      },
      "source": [
        "#### When to use L1, L2 Regularization ?"
      ]
    },
    {
      "cell_type": "markdown",
      "source": [
        "<center><img src=https://d2beiqkhq929f0.cloudfront.net/public_assets/assets/000/043/124/original/Screenshot_2023-08-16_at_7.34.47_PM.png?1692194929 width=800></center>"
      ],
      "metadata": {
        "id": "Rdb2TslUrVVX"
      }
    },
    {
      "cell_type": "markdown",
      "metadata": {
        "id": "IIt575mF-7R3"
      },
      "source": [
        "#### Why does L1 create a sparse W and L2 does not ?"
      ]
    },
    {
      "cell_type": "markdown",
      "source": [
        "\n",
        "\n",
        "<center><img src='https://d2beiqkhq929f0.cloudfront.net/public_assets/assets/000/043/121/original/Screenshot_2023-08-16_at_6.55.16_PM.png?1692192926' width=800></center>\n",
        "\n",
        "\n"
      ],
      "metadata": {
        "id": "D-1Mf3QdLquJ"
      }
    },
    {
      "cell_type": "markdown",
      "metadata": {
        "id": "HhpY65Fq8GoO"
      },
      "source": [
        "#### If you are not sure which regularization to use, is there a way to combine both L1 and L2 ?"
      ]
    },
    {
      "cell_type": "markdown",
      "source": [
        "\n",
        "\n",
        "<center><img src='https://d2beiqkhq929f0.cloudfront.net/public_assets/assets/000/043/122/original/Screenshot_2023-08-16_at_6.59.22_PM.png?1692192957' width=800></center>\n",
        "\n",
        "\n"
      ],
      "metadata": {
        "id": "5Gy552lGMVSh"
      }
    },
    {
      "cell_type": "markdown",
      "metadata": {
        "id": "JaohGQKWMp3k"
      },
      "source": [
        "## **L1, L2 Regularization Code**"
      ]
    },
    {
      "cell_type": "markdown",
      "metadata": {
        "id": "t3ToYDt8jtso"
      },
      "source": [
        "#### Using Sklearn diabetes data - https://scikit-learn.org/stable/datasets/toy_dataset.html#diabetes-dataset\n"
      ]
    },
    {
      "cell_type": "markdown",
      "source": [
        "<img src= https://d2beiqkhq929f0.cloudfront.net/public_assets/assets/000/043/110/original/Screenshot_2023-08-16_at_6.03.47_PM.png?1692189250 width=800>"
      ],
      "metadata": {
        "id": "ujMbTLBPVw-e"
      }
    },
    {
      "cell_type": "code",
      "source": [
        "from sklearn import datasets\n",
        "\n",
        "data = datasets.load_diabetes()"
      ],
      "metadata": {
        "id": "RjQzOwiKLSOO"
      },
      "execution_count": null,
      "outputs": []
    },
    {
      "cell_type": "code",
      "source": [
        "X = data['data']\n",
        "\n",
        "y = data['target']"
      ],
      "metadata": {
        "id": "doxHt-c1L0X-"
      },
      "execution_count": null,
      "outputs": []
    },
    {
      "cell_type": "code",
      "source": [
        "from sklearn.model_selection import train_test_split\n",
        "from sklearn.preprocessing import StandardScaler\n",
        "\n",
        "from sklearn.preprocessing import PolynomialFeatures"
      ],
      "metadata": {
        "id": "zs5FmRSWLBz9"
      },
      "execution_count": null,
      "outputs": []
    },
    {
      "cell_type": "code",
      "source": [
        "# Split the data into training and testing sets\n",
        "X_train, X_test, y_train, y_test = train_test_split(X, y, test_size=0.2, random_state=42)"
      ],
      "metadata": {
        "id": "P1aEYq9HLJER"
      },
      "execution_count": null,
      "outputs": []
    },
    {
      "cell_type": "code",
      "source": [
        "# Transform the features into polynomial features\n",
        "degree = 8\n",
        "poly = PolynomialFeatures(degree=degree)\n",
        "X_train_poly = poly.fit_transform(X_train)\n",
        "X_test_poly = poly.transform(X_test)\n"
      ],
      "metadata": {
        "id": "c_tzZzMlOa-m"
      },
      "execution_count": null,
      "outputs": []
    },
    {
      "cell_type": "code",
      "source": [
        "# Standardize the polynomial features\n",
        "scaler = StandardScaler()\n",
        "X_train_poly_scaled = scaler.fit_transform(X_train_poly)\n",
        "X_test_poly_scaled = scaler.transform(X_test_poly)"
      ],
      "metadata": {
        "id": "8yJn0BtHLKB_"
      },
      "execution_count": null,
      "outputs": []
    },
    {
      "cell_type": "markdown",
      "source": [
        "Using Sklearn's Linear Regression"
      ],
      "metadata": {
        "id": "Uw-G7f4gE8-3"
      }
    },
    {
      "cell_type": "code",
      "source": [
        "from sklearn.linear_model import LinearRegression"
      ],
      "metadata": {
        "id": "b02uTV6SE8nZ"
      },
      "execution_count": null,
      "outputs": []
    },
    {
      "cell_type": "code",
      "source": [
        "model = LinearRegression()\n",
        "model.fit(X_train_poly_scaled , y_train)\n",
        "\n",
        "output = model.predict(X_test_poly_scaled)\n"
      ],
      "metadata": {
        "id": "RKeNKjUSE8id"
      },
      "execution_count": null,
      "outputs": []
    },
    {
      "cell_type": "markdown",
      "source": [
        "taking MSE and $R^2$ as metric instead of Adj.R-sq"
      ],
      "metadata": {
        "id": "67m89wRTV6OG"
      }
    },
    {
      "cell_type": "code",
      "source": [
        "from sklearn.metrics import mean_squared_error\n",
        "\n",
        "print('MSE for test:', mean_squared_error(y_test, output))\n",
        "\n",
        "output = model.predict(X_train_poly_scaled)\n",
        "print('MSE for train:', mean_squared_error(y_train, output))"
      ],
      "metadata": {
        "colab": {
          "base_uri": "https://localhost:8080/"
        },
        "id": "xrzcsodeOwbA",
        "outputId": "59128079-e7eb-496a-d8df-beea83dc37a6"
      },
      "execution_count": null,
      "outputs": [
        {
          "output_type": "stream",
          "name": "stdout",
          "text": [
            "MSE for test: 89165.53605616212\n",
            "MSE for train: 3.0273860289443658e-24\n"
          ]
        }
      ]
    },
    {
      "cell_type": "code",
      "source": [
        "print(\"R^2 for train:\",model.score(X_train_poly_scaled,y_train))\n",
        "print('R^2 for test:',model.score(X_test_poly_scaled,y_test))"
      ],
      "metadata": {
        "colab": {
          "base_uri": "https://localhost:8080/"
        },
        "id": "ILIZpsQU-L6i",
        "outputId": "82761187-9b3e-463b-f438-2f423bcdf123"
      },
      "execution_count": null,
      "outputs": [
        {
          "output_type": "stream",
          "name": "stdout",
          "text": [
            "R^2 for train: 1.0\n",
            "R^2 for test: -15.829554963412864\n"
          ]
        }
      ]
    },
    {
      "cell_type": "markdown",
      "source": [
        "**observe**\n",
        "- Clearly polynomial regression with degree=8 overfits"
      ],
      "metadata": {
        "id": "Bj-gKiEMJ1Rc"
      }
    },
    {
      "cell_type": "markdown",
      "source": [
        "Lets see how L1 and L2 regularisation work"
      ],
      "metadata": {
        "id": "xC1-5bblKGhr"
      }
    },
    {
      "cell_type": "code",
      "source": [
        "from sklearn.linear_model import Lasso, Ridge"
      ],
      "metadata": {
        "id": "p0dj9dwkJ1CY"
      },
      "execution_count": null,
      "outputs": []
    },
    {
      "cell_type": "markdown",
      "source": [
        "taking a very small alpha"
      ],
      "metadata": {
        "id": "q2mbhp3DComi"
      }
    },
    {
      "cell_type": "code",
      "source": [
        "lasso_model = Lasso(alpha=0.001)  # Alpha is the regularization strength #L1\n",
        "ridge_model = Ridge(alpha=0.001)    # Alpha is the regularization strength #L2"
      ],
      "metadata": {
        "id": "IS1RogaJBi-x"
      },
      "execution_count": null,
      "outputs": []
    },
    {
      "cell_type": "code",
      "source": [
        "\n",
        "# Fit the models to the training data\n",
        "lasso_model.fit(X_train_poly_scaled, y_train)\n",
        "ridge_model.fit(X_train_poly_scaled, y_train)"
      ],
      "metadata": {
        "id": "BpJodFHcH2Je",
        "colab": {
          "base_uri": "https://localhost:8080/",
          "height": 130
        },
        "outputId": "090144e8-262a-4d16-cd56-c81300863886"
      },
      "execution_count": null,
      "outputs": [
        {
          "output_type": "stream",
          "name": "stderr",
          "text": [
            "/usr/local/lib/python3.10/dist-packages/sklearn/linear_model/_coordinate_descent.py:631: ConvergenceWarning: Objective did not converge. You might want to increase the number of iterations, check the scale of the features or consider increasing regularisation. Duality gap: 5.658e+03, tolerance: 2.145e+02\n",
            "  model = cd_fast.enet_coordinate_descent(\n"
          ]
        },
        {
          "output_type": "execute_result",
          "data": {
            "text/plain": [
              "Ridge(alpha=0.001)"
            ],
            "text/html": [
              "<style>#sk-container-id-18 {color: black;background-color: white;}#sk-container-id-18 pre{padding: 0;}#sk-container-id-18 div.sk-toggleable {background-color: white;}#sk-container-id-18 label.sk-toggleable__label {cursor: pointer;display: block;width: 100%;margin-bottom: 0;padding: 0.3em;box-sizing: border-box;text-align: center;}#sk-container-id-18 label.sk-toggleable__label-arrow:before {content: \"▸\";float: left;margin-right: 0.25em;color: #696969;}#sk-container-id-18 label.sk-toggleable__label-arrow:hover:before {color: black;}#sk-container-id-18 div.sk-estimator:hover label.sk-toggleable__label-arrow:before {color: black;}#sk-container-id-18 div.sk-toggleable__content {max-height: 0;max-width: 0;overflow: hidden;text-align: left;background-color: #f0f8ff;}#sk-container-id-18 div.sk-toggleable__content pre {margin: 0.2em;color: black;border-radius: 0.25em;background-color: #f0f8ff;}#sk-container-id-18 input.sk-toggleable__control:checked~div.sk-toggleable__content {max-height: 200px;max-width: 100%;overflow: auto;}#sk-container-id-18 input.sk-toggleable__control:checked~label.sk-toggleable__label-arrow:before {content: \"▾\";}#sk-container-id-18 div.sk-estimator input.sk-toggleable__control:checked~label.sk-toggleable__label {background-color: #d4ebff;}#sk-container-id-18 div.sk-label input.sk-toggleable__control:checked~label.sk-toggleable__label {background-color: #d4ebff;}#sk-container-id-18 input.sk-hidden--visually {border: 0;clip: rect(1px 1px 1px 1px);clip: rect(1px, 1px, 1px, 1px);height: 1px;margin: -1px;overflow: hidden;padding: 0;position: absolute;width: 1px;}#sk-container-id-18 div.sk-estimator {font-family: monospace;background-color: #f0f8ff;border: 1px dotted black;border-radius: 0.25em;box-sizing: border-box;margin-bottom: 0.5em;}#sk-container-id-18 div.sk-estimator:hover {background-color: #d4ebff;}#sk-container-id-18 div.sk-parallel-item::after {content: \"\";width: 100%;border-bottom: 1px solid gray;flex-grow: 1;}#sk-container-id-18 div.sk-label:hover label.sk-toggleable__label {background-color: #d4ebff;}#sk-container-id-18 div.sk-serial::before {content: \"\";position: absolute;border-left: 1px solid gray;box-sizing: border-box;top: 0;bottom: 0;left: 50%;z-index: 0;}#sk-container-id-18 div.sk-serial {display: flex;flex-direction: column;align-items: center;background-color: white;padding-right: 0.2em;padding-left: 0.2em;position: relative;}#sk-container-id-18 div.sk-item {position: relative;z-index: 1;}#sk-container-id-18 div.sk-parallel {display: flex;align-items: stretch;justify-content: center;background-color: white;position: relative;}#sk-container-id-18 div.sk-item::before, #sk-container-id-18 div.sk-parallel-item::before {content: \"\";position: absolute;border-left: 1px solid gray;box-sizing: border-box;top: 0;bottom: 0;left: 50%;z-index: -1;}#sk-container-id-18 div.sk-parallel-item {display: flex;flex-direction: column;z-index: 1;position: relative;background-color: white;}#sk-container-id-18 div.sk-parallel-item:first-child::after {align-self: flex-end;width: 50%;}#sk-container-id-18 div.sk-parallel-item:last-child::after {align-self: flex-start;width: 50%;}#sk-container-id-18 div.sk-parallel-item:only-child::after {width: 0;}#sk-container-id-18 div.sk-dashed-wrapped {border: 1px dashed gray;margin: 0 0.4em 0.5em 0.4em;box-sizing: border-box;padding-bottom: 0.4em;background-color: white;}#sk-container-id-18 div.sk-label label {font-family: monospace;font-weight: bold;display: inline-block;line-height: 1.2em;}#sk-container-id-18 div.sk-label-container {text-align: center;}#sk-container-id-18 div.sk-container {/* jupyter's `normalize.less` sets `[hidden] { display: none; }` but bootstrap.min.css set `[hidden] { display: none !important; }` so we also need the `!important` here to be able to override the default hidden behavior on the sphinx rendered scikit-learn.org. See: https://github.com/scikit-learn/scikit-learn/issues/21755 */display: inline-block !important;position: relative;}#sk-container-id-18 div.sk-text-repr-fallback {display: none;}</style><div id=\"sk-container-id-18\" class=\"sk-top-container\"><div class=\"sk-text-repr-fallback\"><pre>Ridge(alpha=0.001)</pre><b>In a Jupyter environment, please rerun this cell to show the HTML representation or trust the notebook. <br />On GitHub, the HTML representation is unable to render, please try loading this page with nbviewer.org.</b></div><div class=\"sk-container\" hidden><div class=\"sk-item\"><div class=\"sk-estimator sk-toggleable\"><input class=\"sk-toggleable__control sk-hidden--visually\" id=\"sk-estimator-id-18\" type=\"checkbox\" checked><label for=\"sk-estimator-id-18\" class=\"sk-toggleable__label sk-toggleable__label-arrow\">Ridge</label><div class=\"sk-toggleable__content\"><pre>Ridge(alpha=0.001)</pre></div></div></div></div></div>"
            ]
          },
          "metadata": {},
          "execution_count": 77
        }
      ]
    },
    {
      "cell_type": "code",
      "source": [
        "\n",
        "lasso_predictions = lasso_model.predict(X_test_poly_scaled)\n",
        "ridge_predictions = ridge_model.predict(X_test_poly_scaled)"
      ],
      "metadata": {
        "id": "8SEVzWIGKatT"
      },
      "execution_count": null,
      "outputs": []
    },
    {
      "cell_type": "code",
      "source": [
        "print('test MSE for L1:', mean_squared_error(y_test, lasso_predictions))\n",
        "print('test MSE for L2:', mean_squared_error(y_test, ridge_predictions))"
      ],
      "metadata": {
        "colab": {
          "base_uri": "https://localhost:8080/"
        },
        "id": "I40X7FWnBtVP",
        "outputId": "c07d0175-3804-42ea-dd63-074ed7ec70dc"
      },
      "execution_count": null,
      "outputs": [
        {
          "output_type": "stream",
          "name": "stdout",
          "text": [
            "test MSE for L1: 56375.166621619835\n",
            "test MSE for L2: 89127.31439266077\n"
          ]
        }
      ]
    },
    {
      "cell_type": "code",
      "source": [
        "print(\"R^2 for lasso:\",lasso_model.score(X_test_poly_scaled,y_test))\n",
        "print('R^2 for ridge:',ridge_model.score(X_test_poly_scaled,y_test))"
      ],
      "metadata": {
        "colab": {
          "base_uri": "https://localhost:8080/"
        },
        "id": "gT7Gz8yMBvxE",
        "outputId": "65c7fbe4-82d6-49a3-9c8a-326c4667e32a"
      },
      "execution_count": null,
      "outputs": [
        {
          "output_type": "stream",
          "name": "stdout",
          "text": [
            "R^2 for lasso: -9.640534529310903\n",
            "R^2 for ridge: -15.822340813023146\n"
          ]
        }
      ]
    },
    {
      "cell_type": "markdown",
      "source": [
        "No such improvement in test performance"
      ],
      "metadata": {
        "id": "MAhT-huaCsTA"
      }
    },
    {
      "cell_type": "markdown",
      "source": [
        "taking extremely high alpha"
      ],
      "metadata": {
        "id": "oz0rwj3-Cw8o"
      }
    },
    {
      "cell_type": "code",
      "source": [
        "lasso_model = Lasso(alpha=1e10)  # Alpha is the regularization strength\n",
        "ridge_model = Ridge(alpha=1e10)    # Alpha is the regularization strength\n",
        "\n",
        "# Fit the models to the training data\n",
        "lasso_model.fit(X_train_poly_scaled, y_train)\n",
        "ridge_model.fit(X_train_poly_scaled, y_train)\n",
        "\n",
        "lasso_predictions = lasso_model.predict(X_test_poly_scaled)\n",
        "ridge_predictions = ridge_model.predict(X_test_poly_scaled)\n",
        "\n",
        "print('test MSE for L1:', mean_squared_error(y_test, lasso_predictions))\n",
        "print('test MSE for L2:', mean_squared_error(y_test, ridge_predictions))\n",
        "\n",
        "print(\"R^2 for lasso:\",lasso_model.score(X_test_poly_scaled,y_test))\n",
        "print('R^2 for ridge:',ridge_model.score(X_test_poly_scaled,y_test))"
      ],
      "metadata": {
        "colab": {
          "base_uri": "https://localhost:8080/"
        },
        "id": "d_KEQoPyCIEB",
        "outputId": "3b6d988a-14a0-4623-a326-55a846e18a1f"
      },
      "execution_count": null,
      "outputs": [
        {
          "output_type": "stream",
          "name": "stdout",
          "text": [
            "test MSE for L1: 5361.533457238513\n",
            "test MSE for L2: 5361.437117416974\n",
            "R^2 for lasso: -0.011962984778542296\n",
            "R^2 for ridge: -0.011944801112593773\n"
          ]
        }
      ]
    },
    {
      "cell_type": "markdown",
      "source": [
        "Quite better test performance"
      ],
      "metadata": {
        "id": "8_ke2o_GCyvy"
      }
    },
    {
      "cell_type": "markdown",
      "source": [
        "taking some reasonable alpha"
      ],
      "metadata": {
        "id": "HoujgvRYC2OI"
      }
    },
    {
      "cell_type": "code",
      "source": [
        "lasso_model = Lasso(alpha=1e1)  # Alpha is the regularization strength\n",
        "ridge_model = Ridge(alpha=1e3)    # Alpha is the regularization strength\n",
        "\n",
        "# Fit the models to the training data\n",
        "lasso_model.fit(X_train_poly_scaled, y_train)\n",
        "ridge_model.fit(X_train_poly_scaled, y_train)\n",
        "\n",
        "lasso_predictions = lasso_model.predict(X_test_poly_scaled)\n",
        "ridge_predictions = ridge_model.predict(X_test_poly_scaled)\n",
        "\n",
        "print('test MSE for L1:', mean_squared_error(y_test, lasso_predictions))\n",
        "print('test MSE for L2:', mean_squared_error(y_test, ridge_predictions))\n",
        "\n",
        "print(\"R^2 for lasso:\",lasso_model.score(X_test_poly_scaled,y_test))\n",
        "print('R^2 for ridge:',ridge_model.score(X_test_poly_scaled,y_test))"
      ],
      "metadata": {
        "colab": {
          "base_uri": "https://localhost:8080/"
        },
        "id": "Nu3v2IpJKVTf",
        "outputId": "5d8b42ed-7e3b-4ece-8fc2-d8c012dcaf9f"
      },
      "execution_count": null,
      "outputs": [
        {
          "output_type": "stream",
          "name": "stdout",
          "text": [
            "test MSE for L1: 2853.8774245650693\n",
            "test MSE for L2: 3999.5295195330687\n",
            "R^2 for lasso: 0.4613447179265656\n",
            "R^2 for ridge: 0.24510853796272003\n"
          ]
        }
      ]
    },
    {
      "cell_type": "markdown",
      "source": [
        "<center><img src=https://d2beiqkhq929f0.cloudfront.net/public_assets/assets/000/043/125/original/Screenshot_2023-08-16_at_7.35.10_PM.png?1692194983 width=800> </center>"
      ],
      "metadata": {
        "id": "9vDGYkrJriWY"
      }
    },
    {
      "cell_type": "markdown",
      "source": [
        "<center><img src=https://d2beiqkhq929f0.cloudfront.net/public_assets/assets/000/043/126/original/Screenshot_2023-08-16_at_7.35.19_PM.png?1692195015 width=800> </center>"
      ],
      "metadata": {
        "id": "Tb2JGrbKrii3"
      }
    },
    {
      "cell_type": "markdown",
      "source": [
        "## HyperParameter Tuning"
      ],
      "metadata": {
        "id": "WYezoL6h8XK8"
      }
    },
    {
      "cell_type": "markdown",
      "source": [
        "Let's use the code to create X and Y as we did in last lecture"
      ],
      "metadata": {
        "id": "rfjmuUg-jvL4"
      }
    },
    {
      "cell_type": "code",
      "source": [
        "import numpy as np\n",
        "import matplotlib.pyplot as plt\n",
        "\n",
        "# lets generate a dataset of 100 points\n",
        "np.random.seed(2)\n",
        "X = np.random.rand(1000,1)\n",
        "y = 0.7*(X**5) - \\\n",
        "    2.1*(X**4) + \\\n",
        "    2.3*(X**3) + \\\n",
        "    0.2*(X**2) + \\\n",
        "    0.3* X + \\\n",
        "    0.4*np.random.rand(1000,1)\n",
        "\n",
        "#0.8, 0.2 split\n",
        "from sklearn.model_selection import train_test_split\n",
        "X_train, X_test, y_train, y_test = train_test_split(X, y, test_size=0.2, random_state=1)"
      ],
      "metadata": {
        "id": "d0ElToyxjvL4"
      },
      "execution_count": null,
      "outputs": []
    },
    {
      "cell_type": "code",
      "source": [
        "from sklearn.preprocessing import PolynomialFeatures\n",
        "from sklearn.preprocessing import StandardScaler\n",
        "from sklearn.linear_model import Ridge\n",
        "from sklearn.pipeline import make_pipeline\n",
        "from sklearn.linear_model import LinearRegression"
      ],
      "metadata": {
        "id": "URl0mtAicIc_"
      },
      "execution_count": null,
      "outputs": []
    },
    {
      "cell_type": "code",
      "source": [
        "def adj_r2(X, y, r2_score):\n",
        "  return 1 - ((1-r2_score)*(len(y)-1))/(len(y)-X.shape[1]-1)"
      ],
      "metadata": {
        "id": "ZRz6NzvZ_zEO"
      },
      "execution_count": null,
      "outputs": []
    },
    {
      "cell_type": "markdown",
      "source": [
        "\n",
        "In the last lecture, we found that the optimal degree would be somewhere around 2,3.\n",
        "\n",
        "But just to see, if regualarisation helps in controlling overfitting, lets take a higher and see how to optimize our regularization rate."
      ],
      "metadata": {
        "id": "PpL8zvPskRVt"
      }
    },
    {
      "cell_type": "code",
      "source": [
        "max_degree = 11 # max polynomial degree\n",
        "train_scores = []\n",
        "test_scores = []\n",
        "scaler = StandardScaler()\n",
        "for degree in range(1, max_degree):\n",
        "  polyreg_scaled = make_pipeline(PolynomialFeatures(degree), scaler, Ridge())\n",
        "  polyreg_scaled.fit(X_train, y_train)\n",
        "  train_score = adj_r2(X_train, y_train, polyreg_scaled.score(X_train, y_train))\n",
        "  test_score= adj_r2(X_test, y_test, polyreg_scaled.score(X_test, y_test))\n",
        "  train_scores.append(train_score)\n",
        "  test_scores.append(test_score)\n",
        "\n",
        "plt.figure()\n",
        "plt.plot(list(range(1, 11)), train_scores, label=\"train\")\n",
        "plt.plot(list(range(1, 11)), test_scores, label=\"test\")\n",
        "plt.legend(loc='lower right')\n",
        "plt.xlabel(\"degree\")\n",
        "plt.ylabel(\"adj. R-score\")\n",
        "plt.grid()\n",
        "plt.show()"
      ],
      "metadata": {
        "colab": {
          "base_uri": "https://localhost:8080/",
          "height": 469
        },
        "id": "TQMpn6dVDxI7",
        "outputId": "46ba4a80-cca9-47d0-ee3b-715e956e7c6a"
      },
      "execution_count": null,
      "outputs": [
        {
          "output_type": "display_data",
          "data": {
            "text/plain": [
              "<Figure size 640x480 with 1 Axes>"
            ],
            "image/png": "[encoded data removed]"
          },
          "metadata": {}
        }
      ]
    },
    {
      "cell_type": "code",
      "source": [
        "train_scores = []\n",
        "test_scores = []\n",
        "rate_list = [0.0001, 0.001, 0.01, 0.1, 1, 10]\n",
        "scaler = StandardScaler()\n",
        "for rate in rate_list:\n",
        "  polyreg_scaled = make_pipeline(PolynomialFeatures(8), scaler, Ridge(alpha=rate))\n",
        "  polyreg_scaled.fit(X_train, y_train)\n",
        "  train_score = polyreg_scaled.score(X_train, y_train)\n",
        "  test_score= polyreg_scaled.score(X_test, y_test)\n",
        "  train_scores.append(train_score)\n",
        "  test_scores.append(test_score)"
      ],
      "metadata": {
        "id": "xaDg450Vc8Rx"
      },
      "execution_count": null,
      "outputs": []
    },
    {
      "cell_type": "code",
      "source": [
        "plt.figure(figsize=(5,5))\n",
        "plt.plot(rate_list, train_scores, label=\"train\")\n",
        "plt.plot(rate_list, test_scores, label=\"test\")\n",
        "plt.xlabel(\"lambda\")\n",
        "plt.ylabel(\"R-score\")\n",
        "plt.xscale(\"log\")\n",
        "plt.grid()\n",
        "plt.show()"
      ],
      "metadata": {
        "id": "5CIAE1Zheq-M",
        "colab": {
          "base_uri": "https://localhost:8080/",
          "height": 469
        },
        "outputId": "f0014470-95c9-4837-a3d5-08894e3b20b7"
      },
      "execution_count": null,
      "outputs": [
        {
          "output_type": "display_data",
          "data": {
            "text/plain": [
              "<Figure size 500x500 with 1 Axes>"
            ],
            "image/png": "[encoded data removed]"
          },
          "metadata": {}
        }
      ]
    },
    {
      "cell_type": "code",
      "source": [
        "print(\"Best lambda:\", rate_list[np.argmax(test_scores)])"
      ],
      "metadata": {
        "id": "IRwmwm5myuLo",
        "colab": {
          "base_uri": "https://localhost:8080/"
        },
        "outputId": "497933c8-a666-476d-cd5e-805b07dd2548"
      },
      "execution_count": null,
      "outputs": [
        {
          "output_type": "stream",
          "name": "stdout",
          "text": [
            "Best lambda: 0.1\n"
          ]
        }
      ]
    },
    {
      "cell_type": "markdown",
      "source": [
        "## Cross-Validation"
      ],
      "metadata": {
        "id": "QILUVvYlntIV"
      }
    },
    {
      "cell_type": "markdown",
      "source": [
        "\n",
        "<img src='https://drive.google.com/uc?id=1zZ0u8qLOx129ul1nCE64jc6uBth9QA5n' width=800>\n"
      ],
      "metadata": {
        "id": "45AKkr2tpy9y"
      }
    },
    {
      "cell_type": "markdown",
      "source": [
        "#### So how do we perform cross validation?"
      ],
      "metadata": {
        "id": "Xa5ZJRIjrUZ9"
      }
    },
    {
      "cell_type": "code",
      "source": [
        "# lets generate a dataset of 100 points\n",
        "np.random.seed(2)\n",
        "X = np.random.rand(1000,1)\n",
        "y = 0.7*(X**5) - \\\n",
        "    2.1*(X**4) + \\\n",
        "    2.3*(X**3) + \\\n",
        "    0.2*(X**2) + \\\n",
        "    0.3* X + \\\n",
        "    0.4*np.random.rand(1000,1)\n"
      ],
      "metadata": {
        "id": "_g9CnmZqnm1-"
      },
      "execution_count": null,
      "outputs": []
    },
    {
      "cell_type": "markdown",
      "source": [
        "Now we divide our data into train, test and validation"
      ],
      "metadata": {
        "id": "hu1HqFHnC5Q3"
      }
    },
    {
      "cell_type": "code",
      "source": [
        "#0.6, 0.2, 0.2 split\n",
        "from sklearn.model_selection import train_test_split\n",
        "X_tr_cv, X_test, y_tr_cv, y_test = train_test_split(X, y, test_size=0.2, random_state=1)\n",
        "X_train, X_val, y_train, y_val = train_test_split(X_tr_cv, y_tr_cv, test_size=0.25,random_state=1)"
      ],
      "metadata": {
        "id": "R-nZTEtKC55o"
      },
      "execution_count": null,
      "outputs": []
    },
    {
      "cell_type": "code",
      "source": [
        "X_train.shape, X_val.shape, X_test.shape"
      ],
      "metadata": {
        "id": "PvQN5v7wDxug",
        "colab": {
          "base_uri": "https://localhost:8080/"
        },
        "outputId": "8ec1ad22-b4f5-4b0b-ef52-ddd9e0e8c5fc"
      },
      "execution_count": null,
      "outputs": [
        {
          "output_type": "execute_result",
          "data": {
            "text/plain": [
              "((600, 1), (200, 1), (200, 1))"
            ]
          },
          "metadata": {},
          "execution_count": 98
        }
      ]
    },
    {
      "cell_type": "markdown",
      "source": [
        "Let's visualize our data"
      ],
      "metadata": {
        "id": "XUNhJarf_Xsn"
      }
    },
    {
      "cell_type": "code",
      "source": [
        "plt.figure(figsize=(18,5))\n",
        "data_labels = [\"Training Data\", \"Validation Data\", \"Test Data\" ]\n",
        "x_labels = [X_train, X_val, X_test]\n",
        "y_labels = [y_train, y_val, y_test]\n",
        "for i in range(3):\n",
        "  plt.subplot(1, 3, i+1)\n",
        "  plt.scatter(x_labels[i], y_labels[i])\n",
        "  plt.xlabel(\"x\")\n",
        "  plt.ylabel(\"y\")\n",
        "  plt.title(data_labels[i])"
      ],
      "metadata": {
        "id": "HIhTH7yz_ZbN",
        "colab": {
          "base_uri": "https://localhost:8080/",
          "height": 238
        },
        "outputId": "471906ca-7167-4348-90a6-d89cb5f2506e"
      },
      "execution_count": null,
      "outputs": [
        {
          "output_type": "display_data",
          "data": {
            "text/plain": [
              "<Figure size 1800x500 with 3 Axes>"
            ],
            "image/png": "[encoded data removed]"
          },
          "metadata": {}
        }
      ]
    },
    {
      "cell_type": "markdown",
      "source": [
        "The statistics of our type of data is similar, so we are good to go."
      ],
      "metadata": {
        "id": "qMvxos6z7Ra6"
      }
    },
    {
      "cell_type": "markdown",
      "source": [
        "#### Steps to do cross-validation on our data\n",
        "\n"
      ],
      "metadata": {
        "id": "KMx20eiYqPUt"
      }
    },
    {
      "cell_type": "markdown",
      "source": [
        "Now if you remember, in the last lecture we saw how the performance was increasing with increase in degree of the polynomial model\n",
        "\n",
        "But how do we find the optimal degree in this case?\n",
        "\n",
        "Let's"
      ],
      "metadata": {
        "id": "zTb5G4KMW3bW"
      }
    },
    {
      "cell_type": "markdown",
      "source": [
        "Let's try to find the optimal value of `degree` for our polynomial regression model"
      ],
      "metadata": {
        "id": "Ime0l_99W1EG"
      }
    },
    {
      "cell_type": "markdown",
      "source": [
        "1. First we take degrees from 1 to 25, and train the model on data for each of these degrees to find the best degree"
      ],
      "metadata": {
        "id": "6KGZm8tQDTxo"
      }
    },
    {
      "cell_type": "code",
      "source": [
        "# Same as before\n",
        "max_degree = 11 # max polynomial degree\n",
        "train_scores = []\n",
        "val_scores = []\n",
        "scaler = StandardScaler()\n",
        "for degree in range(1, max_degree):\n",
        "  polyreg_scaled = make_pipeline(PolynomialFeatures(degree), scaler, Ridge())\n",
        "  polyreg_scaled.fit(X_train, y_train)\n",
        "  train_score = adj_r2(X_train, y_train, polyreg_scaled.score(X_train, y_train))\n",
        "  val_score= adj_r2(X_val, y_val, polyreg_scaled.score(X_val, y_val))\n",
        "  train_scores.append(train_score)\n",
        "  val_scores.append(val_score)\n",
        "plt.figure()\n",
        "plt.plot(list(range(1, 11)), train_scores, label=\"train\")\n",
        "plt.plot(list(range(1, 11)), val_scores, label=\"val\")\n",
        "plt.legend(loc='lower right')\n",
        "plt.xlabel(\"degree\")\n",
        "plt.ylabel(\"adj. R-score\")\n",
        "plt.grid()\n",
        "plt.show()"
      ],
      "metadata": {
        "id": "KHuRfcbZEgIB",
        "colab": {
          "base_uri": "https://localhost:8080/",
          "height": 449
        },
        "outputId": "7ac8105d-9b90-46d0-c676-72a0abe09b1d"
      },
      "execution_count": null,
      "outputs": [
        {
          "output_type": "display_data",
          "data": {
            "text/plain": [
              "<Figure size 640x480 with 1 Axes>"
            ],
            "image/png": "[encoded data removed]"
          },
          "metadata": {}
        }
      ]
    },
    {
      "cell_type": "markdown",
      "source": [
        "Taking degree=3, we now find the best regularization rate by the same process"
      ],
      "metadata": {
        "id": "g4Tvpu_hmvwd"
      }
    },
    {
      "cell_type": "code",
      "source": [
        "train_scores = []\n",
        "val_scores = []\n",
        "rate_list = [0.01, 0.1, 1,5, 10]\n",
        "for rate in rate_list:\n",
        "  polyreg_scaled = make_pipeline(PolynomialFeatures(3), scaler, Ridge(alpha=rate))\n",
        "  polyreg_scaled.fit(X_train, y_train)\n",
        "  train_score = adj_r2(X_train, y_train, polyreg_scaled.score(X_train, y_train))\n",
        "  val_score= adj_r2(X_val, y_val, polyreg_scaled.score(X_val, y_val))\n",
        "  train_scores.append(train_score)\n",
        "  val_scores.append(val_score)"
      ],
      "metadata": {
        "id": "M3B44v1JnE-G"
      },
      "execution_count": null,
      "outputs": []
    },
    {
      "cell_type": "code",
      "source": [
        "plt.figure()\n",
        "plt.plot(rate_list, train_scores, label=\"train\")\n",
        "plt.plot(rate_list, val_scores, label=\"val\")\n",
        "plt.legend(loc='lower right')\n",
        "plt.xlabel(\"lambda\")\n",
        "plt.ylabel(\"adj. R-score\")\n",
        "plt.grid()\n",
        "plt.show()"
      ],
      "metadata": {
        "id": "kvN1IWydnE-G",
        "colab": {
          "base_uri": "https://localhost:8080/",
          "height": 449
        },
        "outputId": "31d0b399-8d15-4711-8832-942487d4e8f2"
      },
      "execution_count": null,
      "outputs": [
        {
          "output_type": "display_data",
          "data": {
            "text/plain": [
              "<Figure size 640x480 with 1 Axes>"
            ],
            "image/png": "[encoded data removed]"
          },
          "metadata": {}
        }
      ]
    },
    {
      "cell_type": "markdown",
      "source": [
        "We take the optimal value of lambda as 0.01"
      ],
      "metadata": {
        "id": "ZmZX4huQF4Eg"
      }
    },
    {
      "cell_type": "markdown",
      "source": [
        "2. Now finally, we measure our model's performance on test data, which our model hasn't seen till now"
      ],
      "metadata": {
        "id": "ZIPEVxjhGKqC"
      }
    },
    {
      "cell_type": "code",
      "source": [
        "polyreg_scaled = make_pipeline(PolynomialFeatures(3), scaler, Ridge(alpha=0.01))\n",
        "polyreg_scaled.fit(X_train, y_train)\n",
        "train_score = adj_r2(X_train, y_train, polyreg_scaled.score(X_train, y_train))\n",
        "print(f'Training Score = {train_score}')\n",
        "val_score = adj_r2(X_val, y_val, polyreg_scaled.score(X_val, y_val))\n",
        "print(f'Validation Score = {val_score}')"
      ],
      "metadata": {
        "id": "w1svueDEF2_R",
        "colab": {
          "base_uri": "https://localhost:8080/"
        },
        "outputId": "611ca0a2-77da-41d9-bd95-bbce9e4188c1"
      },
      "execution_count": null,
      "outputs": [
        {
          "output_type": "stream",
          "name": "stdout",
          "text": [
            "Training Score = 0.9261212571628987\n",
            "Validation Score = 0.9191482611247953\n"
          ]
        }
      ]
    },
    {
      "cell_type": "code",
      "source": [
        "# Reporting this as the final score\n",
        "test_score = adj_r2(X_test, y_test, polyreg_scaled.score(X_test, y_test))\n",
        "print(f'Testing Score = {test_score}')"
      ],
      "metadata": {
        "id": "VQTLT84YHJdB",
        "colab": {
          "base_uri": "https://localhost:8080/"
        },
        "outputId": "6be93463-2a64-4004-9eef-c9490b614431"
      },
      "execution_count": null,
      "outputs": [
        {
          "output_type": "stream",
          "name": "stdout",
          "text": [
            "Testing Score = 0.9143625261065258\n"
          ]
        }
      ]
    },
    {
      "cell_type": "markdown",
      "source": [
        "## K-Fold Cross Validation"
      ],
      "metadata": {
        "id": "rMUEy_TMIBmi"
      }
    },
    {
      "cell_type": "markdown",
      "source": [
        "This is useful only for small datasets"
      ],
      "metadata": {
        "id": "krv8YeJ2Pcpi"
      }
    },
    {
      "cell_type": "markdown",
      "source": [
        "#### What is k-fold cross validation?\n"
      ],
      "metadata": {
        "id": "nnyrB0wwPr6u"
      }
    },
    {
      "cell_type": "markdown",
      "source": [
        "\n",
        "<img src='https://drive.google.com/uc?id=1dkxPt6DY0U4T-AwFREYkBHQaA1EVqScP' width=800>\n"
      ],
      "metadata": {
        "id": "zHtYGZFhvIIV"
      }
    },
    {
      "cell_type": "markdown",
      "source": [
        "#### How to implement K-Fold Cross validation?"
      ],
      "metadata": {
        "id": "Ybj8JrbxSoUA"
      }
    },
    {
      "cell_type": "markdown",
      "source": [
        "\n",
        "<img src='https://drive.google.com/uc?id=1J4IerGUseEHGqonulMJ2QYQfOLmfb8-T' width=800>"
      ],
      "metadata": {
        "id": "sjq4hGmfOywr"
      }
    },
    {
      "cell_type": "code",
      "source": [
        "# Creating a small dataset of 100 data points\n",
        "np.random.seed(2)\n",
        "X = np.random.rand(100,1)\n",
        "y = 0.7*(X**5) - \\\n",
        "    2.1*(X**4) + \\\n",
        "    2.3*(X**3) + \\\n",
        "    0.2*(X**2) + \\\n",
        "    0.3* X + \\\n",
        "    0.4*np.random.rand(100,1)"
      ],
      "metadata": {
        "id": "kaP9URYzRIfw"
      },
      "execution_count": null,
      "outputs": []
    },
    {
      "cell_type": "code",
      "source": [
        "from sklearn.model_selection import KFold\n",
        "kf = KFold(n_splits=10)"
      ],
      "metadata": {
        "id": "pB9xOCM_HQ7_"
      },
      "execution_count": null,
      "outputs": []
    },
    {
      "cell_type": "code",
      "source": [
        "# Performing k-fold cross validation\n",
        "degrees = 11 # number of degrees\n",
        "train_scores = []\n",
        "val_scores = []\n",
        "\n",
        "for degree in range(1, degrees):\n",
        "    fold_train_scores = []\n",
        "    fold_val_scores = []\n",
        "\n",
        "    for train_index, val_index in kf.split(X): #iterating through the K-folds\n",
        "\n",
        "        X_train, X_val = X[train_index], X[val_index]\n",
        "        y_train, y_val = y[train_index], y[val_index]\n",
        "\n",
        "        polyreg_scaled = make_pipeline(PolynomialFeatures(degree), scaler, LinearRegression())\n",
        "        polyreg_scaled.fit(X_train, y_train) #training model\n",
        "\n",
        "        train_score = adj_r2(X_train, y_train, polyreg_scaled.score(X_train, y_train))\n",
        "        val_score= adj_r2(X_val, y_val, polyreg_scaled.score(X_val, y_val))\n",
        "\n",
        "        fold_train_scores.append(train_score)\n",
        "        fold_val_scores.append(val_score)\n",
        "\n",
        "    train_score = np.mean(fold_train_scores)\n",
        "    val_score = np.mean(fold_val_scores)\n",
        "\n",
        "    train_scores.append(train_score)\n",
        "    val_scores.append(val_score)"
      ],
      "metadata": {
        "id": "UO7n1IAIQ3bi"
      },
      "execution_count": null,
      "outputs": []
    },
    {
      "cell_type": "code",
      "source": [
        "plt.figure()\n",
        "plt.plot(list(range(1, 11)), train_scores, label=\"train\")\n",
        "plt.plot(list(range(1, 11)), val_scores, label=\"val\")\n",
        "plt.legend(loc='lower right')\n",
        "plt.xlabel(\"degree\")\n",
        "plt.ylabel(\"Average R2 score\")\n",
        "plt.show()"
      ],
      "metadata": {
        "id": "1Uv-TLbIQ-O9",
        "colab": {
          "base_uri": "https://localhost:8080/",
          "height": 449
        },
        "outputId": "cb16c5f4-3296-4724-99c3-a6a55e27f398"
      },
      "execution_count": null,
      "outputs": [
        {
          "output_type": "display_data",
          "data": {
            "text/plain": [
              "<Figure size 640x480 with 1 Axes>"
            ],
            "image/png": "[encoded data removed]"
          },
          "metadata": {}
        }
      ]
    },
    {
      "cell_type": "markdown",
      "source": [
        "----"
      ],
      "metadata": {
        "id": "sLFnXLb3vdQM"
      }
    }
  ],
  "metadata": {
    "colab": {
      "provenance": [],
      "include_colab_link": true
    },
    "kernelspec": {
      "display_name": "Python 3",
      "name": "python3"
    },
    "language_info": {
      "name": "python"
    }
  },
  "nbformat": 4,
  "nbformat_minor": 0
}