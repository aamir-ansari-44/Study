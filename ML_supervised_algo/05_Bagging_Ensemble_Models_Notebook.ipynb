{
 "cells": [
  {
   "cell_type": "code",
   "execution_count": 1,
   "id": "c43eb374",
   "metadata": {},
   "outputs": [
    {
     "name": "stdout",
     "output_type": "stream",
     "text": [
      "Downloading...\n",
      "From: https://drive.google.com/uc?id=16KtxSt_QEGQvfluEaMls5cCHPwhRXgCk\n",
      "To: /Users/nikhilsanghi/Downloads/01_dsml-course-main-live/batches/01_MWF_Intro_to_ML/Supervised_Algorithms/05_Bagging_Ensemble_Models/HR-Employee-Attrition.csv\n",
      "100%|█████████████████████████████████████████| 228k/228k [00:00<00:00, 875kB/s]\n",
      "Downloading...\n",
      "From: https://drive.google.com/uc?id=19L3rYatfhbBL1r5MHrv-p_oM2wlvrhqk\n",
      "To: /Users/nikhilsanghi/Downloads/01_dsml-course-main-live/batches/01_MWF_Intro_to_ML/Supervised_Algorithms/05_Bagging_Ensemble_Models/preprocessed_X_sm.pickle\n",
      "100%|█████████████████████████████████████████| 534k/534k [00:01<00:00, 394kB/s]\n",
      "Downloading...\n",
      "From: https://drive.google.com/uc?id=1OHLKJwA3qZopKPvlKoRldM6BvA1A4dYF\n",
      "To: /Users/nikhilsanghi/Downloads/01_dsml-course-main-live/batches/01_MWF_Intro_to_ML/Supervised_Algorithms/05_Bagging_Ensemble_Models/X_test.pickle\n",
      "100%|█████████████████████████████████████████| 111k/111k [00:00<00:00, 520kB/s]\n",
      "Downloading...\n",
      "From: https://drive.google.com/uc?id=1N7O_fWCTJLu8SIa_paKcDEzllgpMk8sK\n",
      "To: /Users/nikhilsanghi/Downloads/01_dsml-course-main-live/batches/01_MWF_Intro_to_ML/Supervised_Algorithms/05_Bagging_Ensemble_Models/y_sm.pickle\n",
      "100%|██████████████████████████████████████| 15.4k/15.4k [00:00<00:00, 22.2MB/s]\n",
      "Downloading...\n",
      "From: https://drive.google.com/uc?id=12Bh2AN8LcZAlg20ehpQrEWccUDaSdsOG\n",
      "To: /Users/nikhilsanghi/Downloads/01_dsml-course-main-live/batches/01_MWF_Intro_to_ML/Supervised_Algorithms/05_Bagging_Ensemble_Models/y_test.pickle\n",
      "100%|██████████████████████████████████████| 9.49k/9.49k [00:00<00:00, 11.4MB/s]\n"
     ]
    }
   ],
   "source": [
    "import pandas as pd\n",
    "import numpy as np\n",
    "\n",
    "!gdown 16KtxSt_QEGQvfluEaMls5cCHPwhRXgCk\n",
    "!gdown 19L3rYatfhbBL1r5MHrv-p_oM2wlvrhqk\n",
    "!gdown 1OHLKJwA3qZopKPvlKoRldM6BvA1A4dYF\n",
    "!gdown 1N7O_fWCTJLu8SIa_paKcDEzllgpMk8sK\n",
    "!gdown 12Bh2AN8LcZAlg20ehpQrEWccUDaSdsOG\n",
    "\n",
    "import pickle\n",
    "# Load data (deserialize)\n",
    "with open('preprocessed_X_sm.pickle', 'rb') as handle:\n",
    "    X_train = pickle.load(handle)\n",
    "\n",
    "with open('X_test.pickle', 'rb') as handle:\n",
    "    X_test = pickle.load(handle)\n",
    "\n",
    "with open('y_sm.pickle', 'rb') as handle:\n",
    "    y_train = pickle.load(handle)\n",
    "\n",
    "with open('y_test.pickle', 'rb') as handle:\n",
    "    y_test = pickle.load(handle)"
   ]
  },
  {
   "cell_type": "code",
   "execution_count": 2,
   "id": "226434b8",
   "metadata": {},
   "outputs": [
    {
     "name": "stderr",
     "output_type": "stream",
     "text": [
      "/Users/nikhilsanghi/opt/anaconda3/lib/python3.9/site-packages/scipy/__init__.py:146: UserWarning: A NumPy version >=1.16.5 and <1.23.0 is required for this version of SciPy (detected version 1.26.4\n",
      "  warnings.warn(f\"A NumPy version >={np_minversion} and <{np_maxversion}\"\n"
     ]
    },
    {
     "name": "stdout",
     "output_type": "stream",
     "text": [
      "Train accuracy: 83.77\n",
      "Test accuracy: 78.80\n"
     ]
    }
   ],
   "source": [
    "from sklearn.tree import DecisionTreeClassifier\n",
    "\n",
    "tree_clf = DecisionTreeClassifier(random_state=7, max_depth=4)\n",
    "tree_clf.fit(X_train, y_train)\n",
    "\n",
    "print(\"Train accuracy: {:.2f}\".format(tree_clf.score(X_train, y_train)*100))\n",
    "print(\"Test accuracy: {:.2f}\".format(tree_clf.score(X_test, y_test)*100))"
   ]
  },
  {
   "cell_type": "code",
   "execution_count": null,
   "id": "dee41d8f",
   "metadata": {},
   "outputs": [],
   "source": []
  },
  {
   "cell_type": "code",
   "execution_count": 3,
   "id": "6f2aace2",
   "metadata": {},
   "outputs": [
    {
     "name": "stdout",
     "output_type": "stream",
     "text": [
      "K-Fold Accuracy Mean: \n",
      " Train: 88.41 \n",
      " Validation: 84.26\n",
      "K-Fold Accuracy Std: \n",
      " Train: 0.45, \n",
      " Validation: 5.96\n"
     ]
    }
   ],
   "source": [
    "# Load data (deserialize)\n",
    "\n",
    "with open('preprocessed_X_sm.pickle', 'rb') as handle:\n",
    "    X = pickle.load(handle)\n",
    "\n",
    "with open('y_sm.pickle', 'rb') as handle:\n",
    "    y = pickle.load(handle)\n",
    "\n",
    "from sklearn.ensemble import RandomForestClassifier\n",
    "\n",
    "rf_clf = RandomForestClassifier(random_state=7, max_depth=4, n_estimators=100)\n",
    "\n",
    "from sklearn.model_selection import KFold, cross_validate\n",
    "\n",
    "kfold = KFold(n_splits=10)\n",
    "cv_acc_results = cross_validate(rf_clf, X, y, cv=kfold, scoring='accuracy', return_train_score=True)\n",
    "\n",
    "print(f\"K-Fold Accuracy Mean: \\n Train: {cv_acc_results['train_score'].mean()*100:.2f} \\n Validation: {cv_acc_results['test_score'].mean()*100:.2f}\")\n",
    "print(f\"K-Fold Accuracy Std: \\n Train: {cv_acc_results['train_score'].std()*100:.2f}, \\n Validation: {cv_acc_results['test_score'].std()*100:.2f}\")"
   ]
  },
  {
   "cell_type": "code",
   "execution_count": null,
   "id": "4aa46fa3",
   "metadata": {},
   "outputs": [],
   "source": []
  },
  {
   "cell_type": "code",
   "execution_count": 4,
   "id": "73e1abca",
   "metadata": {},
   "outputs": [
    {
     "name": "stderr",
     "output_type": "stream",
     "text": [
      "/Users/nikhilsanghi/opt/anaconda3/lib/python3.9/site-packages/scipy/__init__.py:146: UserWarning: A NumPy version >=1.16.5 and <1.23.0 is required for this version of SciPy (detected version 1.26.4\n",
      "  warnings.warn(f\"A NumPy version >={np_minversion} and <{np_maxversion}\"\n",
      "/Users/nikhilsanghi/opt/anaconda3/lib/python3.9/site-packages/scipy/__init__.py:146: UserWarning: A NumPy version >=1.16.5 and <1.23.0 is required for this version of SciPy (detected version 1.26.4\n",
      "  warnings.warn(f\"A NumPy version >={np_minversion} and <{np_maxversion}\"\n",
      "/Users/nikhilsanghi/opt/anaconda3/lib/python3.9/site-packages/scipy/__init__.py:146: UserWarning: A NumPy version >=1.16.5 and <1.23.0 is required for this version of SciPy (detected version 1.26.4\n",
      "  warnings.warn(f\"A NumPy version >={np_minversion} and <{np_maxversion}\"\n",
      "/Users/nikhilsanghi/opt/anaconda3/lib/python3.9/site-packages/scipy/__init__.py:146: UserWarning: A NumPy version >=1.16.5 and <1.23.0 is required for this version of SciPy (detected version 1.26.4\n",
      "  warnings.warn(f\"A NumPy version >={np_minversion} and <{np_maxversion}\"\n",
      "/Users/nikhilsanghi/opt/anaconda3/lib/python3.9/site-packages/scipy/__init__.py:146: UserWarning: A NumPy version >=1.16.5 and <1.23.0 is required for this version of SciPy (detected version 1.26.4\n",
      "  warnings.warn(f\"A NumPy version >={np_minversion} and <{np_maxversion}\"\n",
      "/Users/nikhilsanghi/opt/anaconda3/lib/python3.9/site-packages/scipy/__init__.py:146: UserWarning: A NumPy version >=1.16.5 and <1.23.0 is required for this version of SciPy (detected version 1.26.4\n",
      "  warnings.warn(f\"A NumPy version >={np_minversion} and <{np_maxversion}\"\n",
      "/Users/nikhilsanghi/opt/anaconda3/lib/python3.9/site-packages/scipy/__init__.py:146: UserWarning: A NumPy version >=1.16.5 and <1.23.0 is required for this version of SciPy (detected version 1.26.4\n",
      "  warnings.warn(f\"A NumPy version >={np_minversion} and <{np_maxversion}\"\n",
      "/Users/nikhilsanghi/opt/anaconda3/lib/python3.9/site-packages/scipy/__init__.py:146: UserWarning: A NumPy version >=1.16.5 and <1.23.0 is required for this version of SciPy (detected version 1.26.4\n",
      "  warnings.warn(f\"A NumPy version >={np_minversion} and <{np_maxversion}\"\n"
     ]
    },
    {
     "name": "stdout",
     "output_type": "stream",
     "text": [
      "Best params:  {'bootstrap': True, 'criterion': 'gini', 'max_depth': 10, 'max_features': 8, 'n_estimators': 200}\n",
      "Best score:  0.9004329004329005\n"
     ]
    }
   ],
   "source": [
    "# Defining parameters -\n",
    "\n",
    "params = {\n",
    "          'n_estimators' : [100,200,300,400],\n",
    "          'max_depth' : [3,5,10],\n",
    "          'criterion' : ['gini', 'entropy'],\n",
    "          'bootstrap' : [True, False],\n",
    "          'max_features' : [8,9,10]\n",
    "         }\n",
    "\n",
    "from sklearn.model_selection import GridSearchCV\n",
    "\n",
    "grid = GridSearchCV(estimator = RandomForestClassifier(),\n",
    "                    param_grid = params,\n",
    "                    scoring = 'accuracy',\n",
    "                    cv = 3,\n",
    "                    n_jobs=-1\n",
    "                    )\n",
    "\n",
    "grid.fit(X, y)\n",
    "\n",
    "print(\"Best params: \", grid.best_params_)\n",
    "print(\"Best score: \", grid.best_score_)"
   ]
  },
  {
   "cell_type": "code",
   "execution_count": 5,
   "id": "d11b32c4",
   "metadata": {},
   "outputs": [
    {
     "name": "stdout",
     "output_type": "stream",
     "text": [
      "K-Fold Accuracy Mean: \n",
      " Train: 99.657 \n",
      " Validation: 91.999\n",
      "K-Fold Accuracy Std: \n",
      " Train: 0.085, \n",
      " Validation: 6.801\n"
     ]
    }
   ],
   "source": [
    "clf2 = RandomForestClassifier(random_state=7, bootstrap=False, criterion='gini',\n",
    "                              max_depth=10, max_features=8, n_estimators=200)\n",
    "\n",
    "kfold = KFold(n_splits=10)\n",
    "cv_acc_results = cross_validate(clf2, X, y, cv=kfold, scoring='accuracy', return_train_score=True)\n",
    "\n",
    "print(f\"K-Fold Accuracy Mean: \\n Train: {cv_acc_results['train_score'].mean()*100:.3f} \\n Validation: {cv_acc_results['test_score'].mean()*100:.3f}\")\n",
    "print(f\"K-Fold Accuracy Std: \\n Train: {cv_acc_results['train_score'].std()*100:.3f}, \\n Validation: {cv_acc_results['test_score'].std()*100:.3f}\")"
   ]
  },
  {
   "cell_type": "code",
   "execution_count": 6,
   "id": "7c300f15",
   "metadata": {},
   "outputs": [
    {
     "name": "stdout",
     "output_type": "stream",
     "text": [
      "Best param:  {'ccp_alpha': 0.005349433114326541}\n",
      "Best score:  0.8544372294372294\n"
     ]
    }
   ],
   "source": [
    "\n",
    "# Defining parameters -\n",
    "\n",
    "from scipy.stats import uniform\n",
    "\n",
    "params = {'ccp_alpha': uniform(loc=0, scale=0.4)}\n",
    "# sample from uniform dist between 0 to 0.4\n",
    "\n",
    "from sklearn.model_selection import RandomizedSearchCV\n",
    "\n",
    "random = RandomizedSearchCV(estimator = RandomForestClassifier(random_state=7, bootstrap=False, criterion='gini',\n",
    "                                                               max_depth=10, max_features=8, n_estimators=200),\n",
    "                            param_distributions = params,\n",
    "                            scoring = 'accuracy',\n",
    "                            cv = 3,\n",
    "                            n_iter=15,\n",
    "                            n_jobs=-1\n",
    "                            )\n",
    "\n",
    "random.fit(X, y)\n",
    "\n",
    "print(\"Best param: \", random.best_params_)\n",
    "print(\"Best score: \", random.best_score_)"
   ]
  },
  {
   "cell_type": "code",
   "execution_count": 7,
   "id": "1588654b",
   "metadata": {},
   "outputs": [
    {
     "data": {
      "image/png": "[encoded data removed]",
      "text/plain": [
       "<Figure size 1080x504 with 1 Axes>"
      ]
     },
     "metadata": {
      "needs_background": "light"
     },
     "output_type": "display_data"
    }
   ],
   "source": [
    "# Feature Importance\n",
    "\n",
    "import matplotlib.pyplot as plt\n",
    "\n",
    "rf_clf.fit(X, y)\n",
    "importances = rf_clf.feature_importances_\n",
    "\n",
    "indices = np.argsort(importances)[::-1] # Sort feature importances in descending order\n",
    "names = [X.columns[i] for i in indices] # Rearrange feature names so they match the sorted feature importances\n",
    "\n",
    "plt.figure(figsize=(15, 7)) # Create plot\n",
    "plt.title(\"Feature Importance\") # Create plot title\n",
    "plt.bar(range(X.shape[1]), importances[indices]) # Add bars\n",
    "plt.xticks(range(X.shape[1]), names, rotation=90) # Add feature names as x-axis labels\n",
    "plt.show() # Show plot"
   ]
  },
  {
   "cell_type": "code",
   "execution_count": null,
   "id": "1512acf1",
   "metadata": {},
   "outputs": [],
   "source": []
  },
  {
   "cell_type": "code",
   "execution_count": null,
   "id": "da34f0f7",
   "metadata": {},
   "outputs": [],
   "source": []
  },
  {
   "cell_type": "code",
   "execution_count": null,
   "id": "4673cc60",
   "metadata": {},
   "outputs": [],
   "source": []
  },
  {
   "cell_type": "code",
   "execution_count": null,
   "id": "040447b6",
   "metadata": {},
   "outputs": [],
   "source": []
  },
  {
   "cell_type": "code",
   "execution_count": null,
   "id": "80c36ff4",
   "metadata": {},
   "outputs": [],
   "source": []
  },
  {
   "cell_type": "code",
   "execution_count": null,
   "id": "d335c340",
   "metadata": {},
   "outputs": [],
   "source": []
  },
  {
   "cell_type": "code",
   "execution_count": null,
   "id": "85f3fc66",
   "metadata": {},
   "outputs": [],
   "source": []
  },
  {
   "cell_type": "code",
   "execution_count": null,
   "id": "c079f8bb",
   "metadata": {},
   "outputs": [],
   "source": []
  },
  {
   "cell_type": "code",
   "execution_count": null,
   "id": "e9504806",
   "metadata": {},
   "outputs": [],
   "source": []
  },
  {
   "cell_type": "code",
   "execution_count": null,
   "id": "06bfec0e",
   "metadata": {},
   "outputs": [],
   "source": []
  },
  {
   "cell_type": "code",
   "execution_count": null,
   "id": "1e58f3ad",
   "metadata": {},
   "outputs": [],
   "source": []
  },
  {
   "cell_type": "code",
   "execution_count": null,
   "id": "adf56186",
   "metadata": {},
   "outputs": [],
   "source": []
  },
  {
   "cell_type": "code",
   "execution_count": null,
   "id": "88059789",
   "metadata": {},
   "outputs": [],
   "source": []
  },
  {
   "cell_type": "code",
   "execution_count": null,
   "id": "a3101052",
   "metadata": {},
   "outputs": [],
   "source": []
  },
  {
   "cell_type": "code",
   "execution_count": null,
   "id": "12807b03",
   "metadata": {},
   "outputs": [],
   "source": []
  },
  {
   "cell_type": "code",
   "execution_count": null,
   "id": "a14f0e5e",
   "metadata": {},
   "outputs": [],
   "source": []
  },
  {
   "cell_type": "code",
   "execution_count": null,
   "id": "ae28509e",
   "metadata": {},
   "outputs": [],
   "source": []
  },
  {
   "cell_type": "code",
   "execution_count": null,
   "id": "e2a2b952",
   "metadata": {},
   "outputs": [],
   "source": []
  },
  {
   "cell_type": "code",
   "execution_count": null,
   "id": "b08d94ab",
   "metadata": {},
   "outputs": [],
   "source": []
  },
  {
   "cell_type": "code",
   "execution_count": null,
   "id": "cd84cb2e",
   "metadata": {},
   "outputs": [],
   "source": []
  },
  {
   "cell_type": "code",
   "execution_count": null,
   "id": "d0474913",
   "metadata": {},
   "outputs": [],
   "source": []
  },
  {
   "cell_type": "code",
   "execution_count": null,
   "id": "23911acd",
   "metadata": {},
   "outputs": [],
   "source": []
  },
  {
   "cell_type": "code",
   "execution_count": null,
   "id": "a57dba4e",
   "metadata": {},
   "outputs": [],
   "source": [
    "10 balls\n",
    "3 red\n",
    "2 blue\n",
    "5 green\n",
    "\n"
   ]
  },
  {
   "cell_type": "code",
   "execution_count": 15,
   "id": "703ce542",
   "metadata": {},
   "outputs": [
    {
     "data": {
      "text/plain": [
       "0.9372305632161295"
      ]
     },
     "execution_count": 15,
     "metadata": {},
     "output_type": "execute_result"
    }
   ],
   "source": [
    "-1*(((0.3)*math.log(0.3, 3)) + ((0.2)*math.log(0.2, 3)) + ((0.5)*math.log(0.5, 3)))\n"
   ]
  },
  {
   "cell_type": "code",
   "execution_count": 12,
   "id": "9829278c",
   "metadata": {},
   "outputs": [],
   "source": [
    "import math"
   ]
  },
  {
   "cell_type": "code",
   "execution_count": null,
   "id": "0502edc6",
   "metadata": {},
   "outputs": [],
   "source": [
    "math.log(number, base)"
   ]
  },
  {
   "cell_type": "code",
   "execution_count": 14,
   "id": "4a0c8336",
   "metadata": {},
   "outputs": [
    {
     "data": {
      "text/plain": [
       "-1.0959032742893846"
      ]
     },
     "execution_count": 14,
     "metadata": {},
     "output_type": "execute_result"
    }
   ],
   "source": [
    "math.log(0.3, 3)"
   ]
  },
  {
   "cell_type": "code",
   "execution_count": null,
   "id": "c1d02a16",
   "metadata": {},
   "outputs": [],
   "source": []
  },
  {
   "cell_type": "code",
   "execution_count": null,
   "id": "7c8b4ad6",
   "metadata": {},
   "outputs": [],
   "source": []
  }
 ],
 "metadata": {
  "kernelspec": {
   "display_name": "Python 3 (ipykernel)",
   "language": "python",
   "name": "python3"
  },
  "language_info": {
   "codemirror_mode": {
    "name": "ipython",
    "version": 3
   },
   "file_extension": ".py",
   "mimetype": "text/x-python",
   "name": "python",
   "nbconvert_exporter": "python",
   "pygments_lexer": "ipython3",
   "version": "3.9.7"
  },
  "varInspector": {
   "cols": {
    "lenName": 16,
    "lenType": 16,
    "lenVar": 40
   },
   "kernels_config": {
    "python": {
     "delete_cmd_postfix": "",
     "delete_cmd_prefix": "del ",
     "library": "var_list.py",
     "varRefreshCmd": "print(var_dic_list())"
    },
    "r": {
     "delete_cmd_postfix": ") ",
     "delete_cmd_prefix": "rm(",
     "library": "var_list.r",
     "varRefreshCmd": "cat(var_dic_list()) "
    }
   },
   "types_to_exclude": [
    "module",
    "function",
    "builtin_function_or_method",
    "instance",
    "_Feature"
   ],
   "window_display": false
  }
 },
 "nbformat": 4,
 "nbformat_minor": 5
}
