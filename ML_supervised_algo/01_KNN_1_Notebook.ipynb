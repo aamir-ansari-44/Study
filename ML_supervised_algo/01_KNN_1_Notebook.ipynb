{
 "cells": [
  {
   "cell_type": "markdown",
   "id": "23cd5317",
   "metadata": {},
   "source": [
    "## KNN Dataset"
   ]
  },
  {
   "cell_type": "code",
   "execution_count": 1,
   "id": "302e0d0c",
   "metadata": {},
   "outputs": [
    {
     "name": "stdout",
     "output_type": "stream",
     "text": [
      "Downloading...\n",
      "From: https://drive.google.com/uc?id=1ZdhRqYv-JizWV6DxO6C4R_k1kxPhmlF2\n",
      "To: /Users/nikhilsanghi/Downloads/01_dsml-course-main-live/batches/01_MWF_Intro_to_ML/Supervised_Algorithms/01_KNN_1/multiclass.csv\n",
      "100%|██████████████████████████████████████| 14.6k/14.6k [00:00<00:00, 19.3MB/s]\n"
     ]
    }
   ],
   "source": [
    "import pandas as pd\n",
    "import numpy as np\n",
    "\n",
    "!gdown 1ZdhRqYv-JizWV6DxO6C4R_k1kxPhmlF2"
   ]
  },
  {
   "cell_type": "code",
   "execution_count": 2,
   "id": "6df66a2d",
   "metadata": {},
   "outputs": [
    {
     "data": {
      "text/html": [
       "<div>\n",
       "<style scoped>\n",
       "    .dataframe tbody tr th:only-of-type {\n",
       "        vertical-align: middle;\n",
       "    }\n",
       "\n",
       "    .dataframe tbody tr th {\n",
       "        vertical-align: top;\n",
       "    }\n",
       "\n",
       "    .dataframe thead th {\n",
       "        text-align: right;\n",
       "    }\n",
       "</style>\n",
       "<table border=\"1\" class=\"dataframe\">\n",
       "  <thead>\n",
       "    <tr style=\"text-align: right;\">\n",
       "      <th></th>\n",
       "      <th>Region</th>\n",
       "      <th>Fresh</th>\n",
       "      <th>Milk</th>\n",
       "      <th>Grocery</th>\n",
       "      <th>Frozen</th>\n",
       "      <th>Detergents_Paper</th>\n",
       "      <th>Delicassen</th>\n",
       "      <th>class</th>\n",
       "    </tr>\n",
       "  </thead>\n",
       "  <tbody>\n",
       "    <tr>\n",
       "      <th>0</th>\n",
       "      <td>3</td>\n",
       "      <td>12669</td>\n",
       "      <td>9656</td>\n",
       "      <td>7561</td>\n",
       "      <td>214</td>\n",
       "      <td>2674</td>\n",
       "      <td>1338</td>\n",
       "      <td>2</td>\n",
       "    </tr>\n",
       "    <tr>\n",
       "      <th>1</th>\n",
       "      <td>3</td>\n",
       "      <td>7057</td>\n",
       "      <td>9810</td>\n",
       "      <td>9568</td>\n",
       "      <td>1762</td>\n",
       "      <td>3293</td>\n",
       "      <td>1776</td>\n",
       "      <td>2</td>\n",
       "    </tr>\n",
       "    <tr>\n",
       "      <th>2</th>\n",
       "      <td>3</td>\n",
       "      <td>6353</td>\n",
       "      <td>8808</td>\n",
       "      <td>7684</td>\n",
       "      <td>2405</td>\n",
       "      <td>3516</td>\n",
       "      <td>7844</td>\n",
       "      <td>2</td>\n",
       "    </tr>\n",
       "    <tr>\n",
       "      <th>3</th>\n",
       "      <td>3</td>\n",
       "      <td>13265</td>\n",
       "      <td>1196</td>\n",
       "      <td>4221</td>\n",
       "      <td>6404</td>\n",
       "      <td>507</td>\n",
       "      <td>1788</td>\n",
       "      <td>1</td>\n",
       "    </tr>\n",
       "    <tr>\n",
       "      <th>4</th>\n",
       "      <td>3</td>\n",
       "      <td>22615</td>\n",
       "      <td>5410</td>\n",
       "      <td>7198</td>\n",
       "      <td>3915</td>\n",
       "      <td>1777</td>\n",
       "      <td>5185</td>\n",
       "      <td>1</td>\n",
       "    </tr>\n",
       "  </tbody>\n",
       "</table>\n",
       "</div>"
      ],
      "text/plain": [
       "   Region  Fresh  Milk  Grocery  Frozen  Detergents_Paper  Delicassen  class\n",
       "0       3  12669  9656     7561     214              2674        1338      2\n",
       "1       3   7057  9810     9568    1762              3293        1776      2\n",
       "2       3   6353  8808     7684    2405              3516        7844      2\n",
       "3       3  13265  1196     4221    6404               507        1788      1\n",
       "4       3  22615  5410     7198    3915              1777        5185      1"
      ]
     },
     "execution_count": 2,
     "metadata": {},
     "output_type": "execute_result"
    }
   ],
   "source": [
    "df=pd.read_csv('multiclass.csv')\n",
    "df.head()"
   ]
  },
  {
   "cell_type": "code",
   "execution_count": 3,
   "id": "fea92a06",
   "metadata": {},
   "outputs": [
    {
     "data": {
      "image/png": "[encoded data removed]",
      "text/plain": [
       "<Figure size 432x288 with 1 Axes>"
      ]
     },
     "metadata": {
      "needs_background": "light"
     },
     "output_type": "display_data"
    }
   ],
   "source": [
    "import seaborn as sns\n",
    "import matplotlib.pyplot as plt\n",
    "\n",
    "sns.histplot(data=df, x=\"class\")\n",
    "plt.title('Data Distribution')\n",
    "plt.show()"
   ]
  },
  {
   "cell_type": "code",
   "execution_count": 4,
   "id": "3da85609",
   "metadata": {},
   "outputs": [],
   "source": [
    "X=df[['Region', 'Fresh',    'Milk', 'Grocery',  'Frozen',   'Detergents_Paper', 'Delicassen'    ]].copy()\n",
    "y=df[['class']].copy()"
   ]
  },
  {
   "cell_type": "code",
   "execution_count": 5,
   "id": "a2bd4e42",
   "metadata": {},
   "outputs": [
    {
     "data": {
      "image/png": "[encoded data removed]",
      "text/plain": [
       "<Figure size 432x288 with 1 Axes>"
      ]
     },
     "metadata": {
      "needs_background": "light"
     },
     "output_type": "display_data"
    }
   ],
   "source": [
    "from sklearn.decomposition import PCA\n",
    "import matplotlib.pyplot as plt\n",
    "\n",
    "\n",
    "def scatter_visualize(visualize1,visualize2,y_label):\n",
    "  scatter = plt.scatter(visualize[:,0] ,visualize[:,1],c = y.values[:,0] )\n",
    "  plt.legend(handles=scatter.legend_elements()[0], labels=['Class1','Class2','Class3'])\n",
    "  plt.show()\n",
    "\n",
    "# reducing features to just 2 features for visualization purpose\n",
    "pca = PCA(n_components=2)\n",
    "visualize = pca.fit_transform(X)\n",
    "\n",
    "\n",
    "scatter_visualize(visualize[:,0] ,visualize[:,1],y.values[:,0])"
   ]
  },
  {
   "cell_type": "code",
   "execution_count": null,
   "id": "a29bd38c",
   "metadata": {},
   "outputs": [],
   "source": []
  },
  {
   "cell_type": "markdown",
   "id": "d7f71649",
   "metadata": {},
   "source": [
    "## KNN Scratch Code\n"
   ]
  },
  {
   "cell_type": "code",
   "execution_count": 6,
   "id": "7f4acf72",
   "metadata": {},
   "outputs": [
    {
     "name": "stdout",
     "output_type": "stream",
     "text": [
      "(247, 7) (247, 1)\n",
      "(83, 7) (83, 1)\n",
      "(110, 7) (110, 1)\n"
     ]
    }
   ],
   "source": [
    "from sklearn.model_selection import train_test_split\n",
    "import matplotlib.pyplot as plt\n",
    "\n",
    "X_train_val, X_test, y_train_val, y_test = train_test_split(X,y,test_size=0.25, random_state=42)\n",
    "\n",
    "X_train, X_val, y_train, y_val = train_test_split(X_train_val,y_train_val,test_size=0.25, random_state=42)\n",
    "\n",
    "print(X_train.shape, y_train.shape)\n",
    "print(X_val.shape, y_val.shape)\n",
    "print(X_test.shape, y_test.shape)"
   ]
  },
  {
   "cell_type": "code",
   "execution_count": 7,
   "id": "e6ae42cb",
   "metadata": {},
   "outputs": [
    {
     "data": {
      "text/plain": [
       "class\n",
       "1        99\n",
       "2        99\n",
       "3        99\n",
       "dtype: int64"
      ]
     },
     "execution_count": 7,
     "metadata": {},
     "output_type": "execute_result"
    }
   ],
   "source": [
    "from imblearn.over_sampling import SMOTE\n",
    "\n",
    "# Create an instance of SMOTE\n",
    "smt = SMOTE()\n",
    "\n",
    "X_sm, y_sm = smt.fit_resample(X_train, y_train)\n",
    "\n",
    "y_sm.value_counts()"
   ]
  },
  {
   "cell_type": "code",
   "execution_count": 8,
   "id": "32f8ec73",
   "metadata": {},
   "outputs": [],
   "source": [
    "from sklearn.preprocessing import StandardScaler\n",
    "\n",
    "st =  StandardScaler()\n",
    "\n",
    "X_sm = st.fit_transform(X_sm.values)\n",
    "X_val_scaled = st.transform(X_val.values)\n",
    "X_test_scaled = st.transform(X_test.values)\n",
    "\n",
    "y_sm = y_sm.values[:,0]\n",
    "y_val = y_val.values[:,0]\n",
    "y_test = y_test.values[:,0]"
   ]
  },
  {
   "cell_type": "code",
   "execution_count": 9,
   "id": "26a2443e",
   "metadata": {},
   "outputs": [
    {
     "data": {
      "text/plain": [
       "array([ 0.69581242, -0.61797791, -0.45118059, -0.64363664, -0.29877299,\n",
       "       -0.49970434, -0.27068902])"
      ]
     },
     "execution_count": 9,
     "metadata": {},
     "output_type": "execute_result"
    }
   ],
   "source": [
    "X_val_scaled[50]"
   ]
  },
  {
   "cell_type": "code",
   "execution_count": 10,
   "id": "95b5bea8",
   "metadata": {},
   "outputs": [
    {
     "name": "stdout",
     "output_type": "stream",
     "text": [
      "(297,)\n"
     ]
    }
   ],
   "source": [
    "dist = np.sqrt(np.sum((X_val_scaled[50]-X_sm)**2,axis=1) )\n",
    "\n",
    "print(dist.shape)"
   ]
  },
  {
   "cell_type": "code",
   "execution_count": 11,
   "id": "88927f6b",
   "metadata": {},
   "outputs": [],
   "source": [
    "# Storing distance and Class labels together\n",
    "distances = [(dist[i],y_sm[i]) for i in range(len(dist)) ]\n",
    "\n",
    "# sort the distances\n",
    "distances = sorted(distances)"
   ]
  },
  {
   "cell_type": "code",
   "execution_count": 12,
   "id": "e30a7375",
   "metadata": {},
   "outputs": [],
   "source": [
    "# Nearest/First K points\n",
    "distances = distances[:5]"
   ]
  },
  {
   "cell_type": "code",
   "execution_count": 13,
   "id": "da497f11",
   "metadata": {},
   "outputs": [
    {
     "name": "stdout",
     "output_type": "stream",
     "text": [
      "kNN prediction: 3.0\n"
     ]
    }
   ],
   "source": [
    "distances = np.array(distances)\n",
    "\n",
    "classes_counts = np.unique(distances[:,1],return_counts=True)\n",
    "\n",
    "index = classes_counts[1].argmax()\n",
    "pred = classes_counts[0][index]\n",
    "\n",
    "print('kNN prediction:',pred)"
   ]
  },
  {
   "cell_type": "code",
   "execution_count": 14,
   "id": "0e9a0d55",
   "metadata": {},
   "outputs": [
    {
     "name": "stdout",
     "output_type": "stream",
     "text": [
      "Neighbors[(distance),(Label)]: [[0.20265294 3.        ]\n",
      " [0.21493626 3.        ]\n",
      " [0.23077728 3.        ]\n",
      " [0.28558097 3.        ]\n",
      " [0.30156772 3.        ]]\n"
     ]
    }
   ],
   "source": [
    "print('Neighbors[(distance),(Label)]:',distances)"
   ]
  },
  {
   "cell_type": "code",
   "execution_count": 15,
   "id": "7940c14a",
   "metadata": {},
   "outputs": [],
   "source": [
    "def knn(X,Y,queryPoint,k):\n",
    "    \"\"\"Predict the class label for the query point\"\"\"\n",
    "    # Euclidean Distance\n",
    "    dist = np.sqrt(np.sum((queryPoint-X)**2,axis=1) )\n",
    "\n",
    "    # Storing distance and Class labels together\n",
    "    distances = [(dist[i],Y[i]) for i in range(len(dist)) ]\n",
    "    # sort the distances\n",
    "    distances = sorted(distances)\n",
    "    # Nearest/First K points\n",
    "    distances = distances[:k]\n",
    "\n",
    "    distances = np.array(distances)\n",
    "\n",
    "    classes_counts = np.unique(distances[:,1],return_counts=True)\n",
    "\n",
    "    index = classes_counts[1].argmax()\n",
    "    pred = classes_counts[0][index]\n",
    "\n",
    "    return int(pred),distances"
   ]
  },
  {
   "cell_type": "code",
   "execution_count": 16,
   "id": "ad95e7d9",
   "metadata": {},
   "outputs": [
    {
     "name": "stdout",
     "output_type": "stream",
     "text": [
      "k nearest neighbors with the distance and class label :[[0.20265294 3.        ]\n",
      " [0.21493626 3.        ]\n",
      " [0.23077728 3.        ]\n",
      " [0.28558097 3.        ]\n",
      " [0.30156772 3.        ]]\n",
      "The predicted class label: 3\n"
     ]
    }
   ],
   "source": [
    "pred,neighbors = knn(X_sm, y_sm, X_val_scaled[50],5)\n",
    "\n",
    "print(f'k nearest neighbors with the distance and class label :{neighbors}')\n",
    "\n",
    "print(f'The predicted class label: {pred}')"
   ]
  },
  {
   "cell_type": "code",
   "execution_count": 17,
   "id": "f719290a",
   "metadata": {},
   "outputs": [
    {
     "data": {
      "text/plain": [
       "3"
      ]
     },
     "execution_count": 17,
     "metadata": {},
     "output_type": "execute_result"
    }
   ],
   "source": [
    "y_val[50]"
   ]
  },
  {
   "cell_type": "code",
   "execution_count": 18,
   "id": "1da935c5",
   "metadata": {},
   "outputs": [],
   "source": [
    "from sklearn.metrics import confusion_matrix\n",
    "\n",
    "y_pred = []\n",
    "\n",
    "for i in range(X_test_scaled.shape[0]):\n",
    "    output,_ = knn(X_sm, y_sm, X_test_scaled[i],5)\n",
    "    y_pred.append(output)\n",
    "\n",
    "\n",
    "\n",
    "\n",
    "cm = confusion_matrix(y_test,y_pred)"
   ]
  },
  {
   "cell_type": "code",
   "execution_count": 19,
   "id": "3b54eb7e",
   "metadata": {},
   "outputs": [
    {
     "data": {
      "text/plain": [
       "<sklearn.metrics._plot.confusion_matrix.ConfusionMatrixDisplay at 0x7fdbe1db1850>"
      ]
     },
     "execution_count": 19,
     "metadata": {},
     "output_type": "execute_result"
    },
    {
     "data": {
      "image/png": "[encoded data removed]",
      "text/plain": [
       "<Figure size 432x288 with 2 Axes>"
      ]
     },
     "metadata": {
      "needs_background": "light"
     },
     "output_type": "display_data"
    }
   ],
   "source": [
    "from sklearn.metrics import ConfusionMatrixDisplay\n",
    "\n",
    "ConfusionMatrixDisplay(cm).plot()"
   ]
  },
  {
   "cell_type": "code",
   "execution_count": 20,
   "id": "3eb3a841",
   "metadata": {},
   "outputs": [
    {
     "name": "stdout",
     "output_type": "stream",
     "text": [
      "              precision    recall  f1-score   support\n",
      "\n",
      "           1       0.85      0.65      0.74        26\n",
      "           2       0.77      0.95      0.85        38\n",
      "           3       0.98      0.91      0.94        46\n",
      "\n",
      "    accuracy                           0.86       110\n",
      "   macro avg       0.86      0.84      0.84       110\n",
      "weighted avg       0.87      0.86      0.86       110\n",
      "\n"
     ]
    }
   ],
   "source": [
    "from sklearn.metrics import classification_report\n",
    "\n",
    "print(classification_report(y_pred,y_test))"
   ]
  },
  {
   "cell_type": "code",
   "execution_count": null,
   "id": "f51d6864",
   "metadata": {},
   "outputs": [],
   "source": []
  },
  {
   "cell_type": "code",
   "execution_count": null,
   "id": "460e69cf",
   "metadata": {},
   "outputs": [],
   "source": []
  },
  {
   "cell_type": "code",
   "execution_count": null,
   "id": "59300ead",
   "metadata": {},
   "outputs": [],
   "source": []
  },
  {
   "cell_type": "code",
   "execution_count": null,
   "id": "fb3fa448",
   "metadata": {},
   "outputs": [],
   "source": []
  },
  {
   "cell_type": "code",
   "execution_count": null,
   "id": "a66c6f6f",
   "metadata": {},
   "outputs": [],
   "source": []
  },
  {
   "cell_type": "code",
   "execution_count": null,
   "id": "12ee3f33",
   "metadata": {},
   "outputs": [],
   "source": []
  },
  {
   "cell_type": "code",
   "execution_count": null,
   "id": "b866dbb6",
   "metadata": {},
   "outputs": [],
   "source": []
  },
  {
   "cell_type": "code",
   "execution_count": null,
   "id": "f345091a",
   "metadata": {},
   "outputs": [],
   "source": []
  },
  {
   "cell_type": "code",
   "execution_count": null,
   "id": "750d6d0f",
   "metadata": {},
   "outputs": [],
   "source": []
  },
  {
   "cell_type": "code",
   "execution_count": null,
   "id": "d07cb075",
   "metadata": {},
   "outputs": [],
   "source": []
  }
 ],
 "metadata": {
  "kernelspec": {
   "display_name": "Python 3 (ipykernel)",
   "language": "python",
   "name": "python3"
  },
  "language_info": {
   "codemirror_mode": {
    "name": "ipython",
    "version": 3
   },
   "file_extension": ".py",
   "mimetype": "text/x-python",
   "name": "python",
   "nbconvert_exporter": "python",
   "pygments_lexer": "ipython3",
   "version": "3.9.7"
  },
  "varInspector": {
   "cols": {
    "lenName": 16,
    "lenType": 16,
    "lenVar": 40
   },
   "kernels_config": {
    "python": {
     "delete_cmd_postfix": "",
     "delete_cmd_prefix": "del ",
     "library": "var_list.py",
     "varRefreshCmd": "print(var_dic_list())"
    },
    "r": {
     "delete_cmd_postfix": ") ",
     "delete_cmd_prefix": "rm(",
     "library": "var_list.r",
     "varRefreshCmd": "cat(var_dic_list()) "
    }
   },
   "types_to_exclude": [
    "module",
    "function",
    "builtin_function_or_method",
    "instance",
    "_Feature"
   ],
   "window_display": false
  }
 },
 "nbformat": 4,
 "nbformat_minor": 5
}
