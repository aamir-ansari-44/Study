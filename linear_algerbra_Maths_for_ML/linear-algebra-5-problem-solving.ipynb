https://gist.github.com/singhsidhukuldeep/c244ea039857e6620b2e59a66118c61b#file-linear-algebra-5-problem-solving-28th-dec-2023-ipynb
