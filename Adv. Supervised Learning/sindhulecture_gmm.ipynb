{
  "nbformat": 4,
  "nbformat_minor": 0,
  "metadata": {
    "colab": {
      "provenance": [],
      "include_colab_link": true
    },
    "kernelspec": {
      "name": "python3",
      "display_name": "Python 3"
    },
    "language_info": {
      "name": "python"
    }
  },
  "cells": [
    {
      "cell_type": "markdown",
      "metadata": {
        "id": "view-in-github",
        "colab_type": "text"
      },
      "source": [
        "<a href=\"https://colab.research.google.com/github/aamir-ansari-44/Study/blob/main/Adv.%20Supervised%20Learning/sindhulecture_gmm.ipynb\" target=\"_parent\"><img src=\"https://colab.research.google.com/assets/colab-badge.svg\" alt=\"Open In Colab\"/></a>"
      ]
    },
    {
      "cell_type": "markdown",
      "source": [
        "## Content"
      ],
      "metadata": {
        "id": "GHAWEK_RAjAm"
      }
    },
    {
      "cell_type": "markdown",
      "source": [
        "\n",
        "\n",
        "\n",
        "- Introduction to Gaussian Mixture Models(GMM)\n",
        "\n",
        "- Extending GMMs to multi-dimension\n",
        "\n",
        "- GMM Algorithm & Implementation\n",
        "\n"
      ],
      "metadata": {
        "id": "lky-HBGiAoTl"
      }
    },
    {
      "cell_type": "markdown",
      "source": [
        "## **Introduction to Gaussian Mixture Models(GMM)**"
      ],
      "metadata": {
        "id": "FGbtPpJTD0Z2"
      }
    },
    {
      "cell_type": "markdown",
      "source": [
        "Let's start with very basic concepts of Gaussian.\n",
        "\n",
        "Imagine that we have a feature $f_{1}$, and we're having dense datapoints in the center, and sparse data at the start and at the end. What type of distribution feature $f_{1}$ might have?\n",
        "\n",
        "Normal Distribution!! This is known as 1-Dimensional Gaussian Distribution\n",
        "\n",
        "<img src='https://drive.google.com/uc?id=1JEmGc-AGBxcHnpyVPUf7veaQTg00NH4-'>"
      ],
      "metadata": {
        "id": "axOqrmDeC2d7"
      }
    },
    {
      "cell_type": "markdown",
      "source": [
        "> **Now, what if the pattern of the spread repeats two times?**\n",
        "\n",
        "- In that case, there will be two **Gaussian Distributions** with mean $\\mu_{1}$ and $\\mu_{2}$.\n",
        "\n",
        "- If there is only a single **mount(peak)** in the distribution of a data, then the data is known as **uni-modal data**\n",
        "\n",
        "- If there are more than one **mount(peak)** in the distribution of a data, then\n",
        "the data is known as **multi-modal data**\n",
        "\n",
        "<img src='https://drive.google.com/uc?id=1n3A12t_drmaV0WLfd6pt5eywHvT8l0Zp'>"
      ],
      "metadata": {
        "id": "uniH6NG7C2bO"
      }
    },
    {
      "cell_type": "markdown",
      "source": [
        "If we combine both the gaussians, the point at which both distributions intersects will have more height than the start and the end of the distribution.\n",
        "\n",
        "This is known as **Mixture of Gaussians**\n",
        "\n",
        "> Q. What does the intersection represents?\n",
        "- It says that the point at intersection can either belong to distribution $G_{1}$ or distribution $G_{2}$\n",
        "\n",
        "<img src='https://drive.google.com/uc?id=1xJFXohtMvNVCXpdLpzqoyC4_9vTADtDL'>"
      ],
      "metadata": {
        "id": "hqsyp8IJC2Yf"
      }
    },
    {
      "cell_type": "markdown",
      "source": [
        "Now, for a feature $f_{1}$, suppose there are two gaussian distribution $G_{1}$ and $G_{2}$, with mean values as $\\mu_{1}$ and $\\mu_{2}$, and standard deviations as $\\sigma_{1}$ and $\\sigma_{2}$ respectively.\n",
        "\n",
        "If we consider a point $x_{i}$, it could belong to either $G_{1}$ and $G_{2}$, but the probability of that point will be higher for either one of them, based on its coordinate\n",
        "\n",
        "<img src='https://drive.google.com/uc?id=1ua_TltOf1JIHmW9yxzZdp_8Ggwr1Qq4D'>"
      ],
      "metadata": {
        "id": "Zu6AqACDC2Vn"
      }
    },
    {
      "cell_type": "markdown",
      "source": [
        "So, in **Gaussian Mixture Models**, we are trying to represent any data as a combination of Gaussian distributions and it is called a mixture model, because each point could belong to any of the gaussian with some probabilities, such that sum of probabilities sum up to 1"
      ],
      "metadata": {
        "id": "wP5m51YXC2R-"
      }
    },
    {
      "cell_type": "markdown",
      "source": [
        "#### **Intuition behind Gaussian Mixture Model**\n",
        "\n",
        "- The basic intuition behind Gaussian Mixture Model is that **we can model any data, that we have, as a mixture of Gaussians**.\n",
        "\n",
        "Let's take 1-Dimensional data again, i.e., data points having only 1 feature\n",
        "\n",
        "- This time let's say that data points are distributed among **'k' Gaussians**, where each Gaussian has a different Mean ($\\mu_k$) and Standard Deviation ($\\sigma_k$), as shown below:\n",
        "\n",
        "<img src='https://drive.google.com/uc?id=1_edDX751PQTqQgAEI7Krk44Su7dM7E_B'>\n",
        "\n",
        "- Every data point $x_i$ will have a probabilty of belonging to each of the Gaussians, i.e.,\n",
        "  \n",
        "  $P(y_i = 1), P(y_i = 2), P(y_i = 3), ...$\n",
        "\n",
        "  where, 1, 2, 3 ... are the indices of Clusters (Gaussians)\n",
        "\n",
        "- The sum of these probabilities will be 1, i.e,\n",
        "\n",
        "  $P(y_i = 1) + P(y_i = 2) + P(y_i = 3) + ... = 1$\n",
        "\n",
        "- So, we are representing data as a combination of Gaussian distributions. Each data point belongs to each of the Gaussians with a non-zero probability, no matter how small that probability is.\n",
        "\n",
        "- This is a 1-Dimensional Gaussian Mixture Model (GMM).\n",
        "\n",
        "\n"
      ],
      "metadata": {
        "id": "l0mlvHkJO3bY"
      }
    },
    {
      "cell_type": "markdown",
      "source": [
        "#### **Let's take the example of an E-Commerce Website**\n",
        "\n",
        "- As we saw earlier, E-Commerce Websites do **Customer Segmentation** to increase their sales/revenue.\n",
        "\n",
        "- Customers are clustered into different groups based on similar traits.\n",
        "\n",
        "- It is possible that not all customers will solely belong to a single cluster.\n",
        "\n",
        "<img src='https://drive.google.com/uc?id=1O8rdhmD19XWYmi0s7EAJb3JdA0ssptUg'>\n",
        "\n",
        "- For example, a customer can be both wealthy and still be price-conscious. Let's say, he/she can fall in the \"wealthy\" cluster with a probability of 40%, but in the \"price-concsious\" cluster with a probability of 60%.\n",
        "\n",
        "- So, we can create a Gaussian Mixture Model with such customers belonging to different clusters with different probabilities.\n",
        "\n",
        "#### **An important thing to note is that each Gaussian Distribution in the mixture can have different spreads**\n",
        "\n",
        "- That is, each Gaussian Distribution in the GMM can have different Mean and Standard Deviation.\n",
        "\n",
        "- It is not necessary that all distributions in the Mixture Model will have to look same.\n",
        "\n",
        "<img src='https://drive.google.com/uc?id=1H5vTItuesp33aa8Fsko_XpCo3yEJGewS'>\n",
        "\n",
        "***\n",
        "\n",
        "\n",
        "\n",
        "\n"
      ],
      "metadata": {
        "id": "yZsgN3RfOXfM"
      }
    },
    {
      "cell_type": "markdown",
      "source": [
        "## **Extending GMMs to multi-dimension**"
      ],
      "metadata": {
        "id": "DOSk2wZIOXcc"
      }
    },
    {
      "cell_type": "markdown",
      "source": [
        "- So far we have seen GMMs with only 1 feature - **1-D Gaussian Mixture Models**\n",
        "\n",
        "\n",
        "Q. **What if our data has more than 1 features?**\n",
        "\n",
        "- 2 features having continuous values can be thought of being on a plane with each data point as a point on the plane.\n",
        "\n",
        "- The probability of a point belonging to each combination of those 2 continuous variables will come on the 3rd axis (z-axis).\n",
        "\n",
        "<img src='https://drive.google.com/uc?id=1EauVjKF65LESE5U6nvbCEtGE9awdPyi3'>\n",
        "\n",
        "- The Gaussian Distribution would look like a hill."
      ],
      "metadata": {
        "id": "u0-yV98sOXZ0"
      }
    },
    {
      "cell_type": "markdown",
      "source": [
        "> **Notes**\n",
        "- Use this visualizer tool for making them familiar with normal distribution with 2 features\n",
        "- http://socr.ucla.edu/htmls/HTML5/BivariateNormal/\n",
        "- https://demonstrations.wolfram.com/TheBivariateNormalDistribution/"
      ],
      "metadata": {
        "id": "gEtgkIRg8lTL"
      }
    },
    {
      "cell_type": "markdown",
      "source": [
        "#### **Example Gaussian Distribution with 2 Features**\n",
        "\n",
        "- Let's take the below Gaussian Distribution with 2 Features as an example:\n",
        "\n",
        "<img src='https://drive.google.com/uc?id=1qtVESt1ZZSz58aywu-ExWJRN38J__acC'>\n",
        "\n",
        "- As we can see, the data points are more dense in the centre and as we move away from the centre, the density of points decreases. This is to simulate a Gaussian (Normal) Distribution.\n",
        "\n",
        "- If we consider only 1 feature at a time, we can see its Gaussian Distribution:\n",
        "  - Red curve represents the Gaussian Distribution for Feature 1 alone.\n",
        "  - Blue curve represents the Gaussian Distribution for Feature 2 alone.\n",
        "\n",
        "- The Gaussian Distribution of the 2 features combined would look something like shown below:\n",
        "\n",
        "  <img src='https://drive.google.com/uc?id=1DuCAoKI5tVjXgqLz3M9EN8Tvp5CoWEtX'>\n",
        "\n",
        "- This is a 2-D Gaussian where the peak is in 3-D.\n",
        "\n",
        "**For a D-dimensional or Multivariate data, the Gaussian Distribution will be in D+1 dimensions**."
      ],
      "metadata": {
        "id": "OWrGhRcp8gRW"
      }
    },
    {
      "cell_type": "markdown",
      "source": [
        "#### **1D GMM vs multi-dimensional GMM**\n",
        "\n",
        "- A **1-D (having only 1 feature) Gaussian Distribution** can be represented as:\n",
        "\n",
        "  $N(\\mu, \\sigma)$\n",
        "\n",
        "  where, $\\mu$ is the mean and $\\sigma$ is the Standard Deviation of the Gaussian Distribution\n",
        "\n",
        "- A **2-D (having 2 features) Gaussian Distribution** can be represented as:\n",
        "\n",
        "  $N_2(\\mu^{(2)}, \\sum^{(2 \\times 2)})$\n",
        "\n",
        "  Now here,\n",
        "  \n",
        "  $\\mu^{(2)}$ is not just a mean, it is a **vector of means $[\\mu_1, \\mu_2]$**, where $\\mu_1$ and $\\mu_2$ are the means of features $f_1$ and $f_2$\n",
        "\n",
        "  And, $\\sum^{(2 \\times 2)}$ is the **$2 \\times 2$ Covariance Matrix** of the whole data.\n",
        "\n",
        "<img src='https://drive.google.com/uc?id=1lB7ZfcOw-bMsUF1GNCigjh0cJYZSa7XN'>\n",
        "\n",
        "- Mean ($\\mu$) and Standard Deviation ($\\sigma$) of 1-D Gaussian Distribution are scaler values, whereas for 2-D Gaussian Distribution, we have a vector of Means (**$\\mu^{(2)}$**) and a $2 \\times 2$ Covariance Matrix ($\\sum^{(2 \\times 2)}$).\n",
        "\n",
        "#### **Now, What about a d-Dimensional Gaussian Distribution?**\n",
        "\n",
        "- A **d-Dimensional Gaussian Distribution** can be represented as:\n",
        "\n",
        "  $N_d(\\mu^{(d)}, \\sum^{(d \\times d)})$\n",
        "\n",
        "  Here, $\\mu^{(d)}$ is a d-Dimensional vector of means of all d-features, i.e., $[\\mu_1, \\mu_2, \\mu_3, ... \\mu_d]$\n",
        "  And $\\sum^{(d \\times d)}$ here is a $d \\times d$ Covariance Matrix of the data.\n",
        "\n",
        "- So, a high dimensional Gaussian Distribution can be mathematically represented in terms of Vector of Means and Covariance Matrix of the data.\n",
        "\n",
        "\n",
        "**Q. How determine these values of $\\mu$ and $Σ$ in higher dimensions?**\n",
        "\n",
        "- For 1D data(with only one feature), it fairly simple. We calculate mean and standard deviation of the distribution.\n",
        "\n",
        "- In 2D, for feature $f1$ and $f2$, we calculate per feature mean ($\\mu_1$, $\\mu_2$), and we compute covariance matrix for the whole dataset which will be of dimension $(2 * 2)$\n",
        "\n",
        "- Same idea can be extended to the d-dimensions as well.\n",
        "\n",
        "\n",
        "\n",
        "\n",
        "\n",
        "\n",
        "\n",
        "\n",
        "\n"
      ],
      "metadata": {
        "id": "yr8AL_qrOXWn"
      }
    },
    {
      "cell_type": "markdown",
      "source": [
        "#####**Q. How do we form clusters with some means and covariance matrix?**\n",
        "\n",
        "- Consider that we have a 2-D feature set, which will return a $(2*2)$ covariance matrix. The covariance matrix will look something like:\n",
        "\n",
        "\\begin{bmatrix}\n",
        "σ^2 & 0\\\\\n",
        "0 & σ^2\n",
        "\\end{bmatrix}\n",
        "\n",
        "- The diagonal term represents the variance of Gaussian Distribution in each direction of the axis. If both the diagonal elements are equal, the clusters shape would result into a circle. This also means that the covariance between  both features will be close to zero.(non-diagonal elements)\n",
        "\n",
        "- So, the covariance matrix is capturing the per feature standard deviation and how each of the feature are correlated.\n",
        "\n",
        "<img src=\"https://d2beiqkhq929f0.cloudfront.net/public_assets/assets/000/015/096/original/Screenshot_2022-09-23_at_8.30.20_AM.png?1663902372\">\n",
        "\n",
        "- If the dimension of the variance is changed, the circular shape will be converted into an ellipse.\n",
        "\n",
        "<img src=\"https://d2beiqkhq929f0.cloudfront.net/public_assets/assets/000/015/097/original/Screenshot_2022-09-23_at_8.33.13_AM.png?1663902416\">\n",
        "\n",
        "- The above shown clusters were aligned in a regular X-Y coordinate system. To change the orientation from regular axis alignment, we add the correlation terms in the off-diagonal positions.\n",
        "\n",
        "<img src=\"https://d2beiqkhq929f0.cloudfront.net/public_assets/assets/000/015/098/original/IMG_4E843DB8B180-1.jpeg?1663902819\">\n",
        "\n",
        "- Now finally, how is the positions of clusters varied across the multiple dimensions?\n",
        "\n",
        "- For that we make use of mean vector ($μ$)\n",
        "\n",
        "<img src=\"https://d2beiqkhq929f0.cloudfront.net/public_assets/assets/000/015/099/original/IMG_D03AF45DEB91-1.jpeg?1663903013\">\n",
        "\n",
        "\n"
      ],
      "metadata": {
        "id": "sY6i5AWxQia6"
      }
    },
    {
      "cell_type": "markdown",
      "source": [
        "#### **Multi-Modal Gaussian Distributions in Multiple Dimension (Mixture Models)**\n",
        "\n",
        "- So far, we studied only Multi-Dimensional Data with a single Gaussian Distribution, i.e., there was only 1 peak (hill) in the data.\n",
        "\n",
        "- Now, Let's extend this concept to a **Mixture of Gaussian Distributions in Multi-Dimensional Data**.\n",
        "\n",
        "- Here's an example of a **Three 2-Dimensional Gaussian Distributions**:\n",
        "\n",
        "<img src='https://drive.google.com/uc?id=1aisHCDizRBId_4dcp5XvVXuYJBpXE4oc'>\n",
        "\n",
        "- If we look at it, the data points are concentrated at 3 different locations in the 2-D plane. Therefore, the data will have 3 peaks with different distributions → 3 Gaussian Distributions.\n",
        "\n",
        "**What if we want to model a d-Dimensional 3-Gaussian Mixture Model?**\n",
        "\n",
        "- In order to represent a d-Dimensional data, i.e., data having d-features, as a 3-Gaussian Mixture Model, we'll need to find all 3 Gaussian Distributions.\n",
        "\n",
        "- And to find all 3 Gaussian Distributions, for each Gaussian Distribution, we'll need to find:\n",
        "\n",
        "  - The d-Dimensional vector of means $\\mu^{(d)}$\n",
        "\n",
        "  - The $d \\times d$ Covariance Matrix $\\sum^{(d \\times d)}$\n",
        "\n",
        "- Each of the 3 Gaussians will have these as its parameters.\n",
        "\n",
        "<img src='https://drive.google.com/uc?id=1PAYppAqIm_VCAdVvmieVWFoyuFaDFPuE'>\n",
        "\n",
        "\n",
        "\n",
        "\n",
        "\n",
        "\n"
      ],
      "metadata": {
        "id": "hiTwKCWMOXTV"
      }
    },
    {
      "cell_type": "markdown",
      "source": [
        "**For three 1-D Gaussian Mixture Model**, we'll need:\n",
        "- Mean ($\\mu$) of all 3 Gaussian Distributions.\n",
        "\n",
        "- Standard Deviation ($\\sigma$) of all 3 Gaussian Distributions.\n",
        "\n",
        "<img src='https://drive.google.com/uc?id=1FoeOShoSMupvGRGYbXNDdIIY_rZqX3Cj'>\n",
        "\n",
        "- Given this information, we can find the probability of any data point $x_i$ belonging to all the 3 Gaussians\n",
        "\n",
        "- That is, $P(x_i | G_1), P(x_i | G_2), P(x_i | G_3)$\n",
        "\n",
        "- We can just plug the data point $x_i$ in **Probability Density Function (PDF)** and compute the probability of the data point belonging to each Gaussian.\n",
        "\n",
        "- The Probability Density Function gives the distribution of probabilities of data points belonging to each of the Gaussians.\n",
        "\n",
        "<img src='https://drive.google.com/uc?id=1Ybo14NBY37gVcjjPRSNrK8psHknat8PS'>\n",
        "\n",
        "Now similarly, **For a d-Dimensional Gaussian Mixture Model**, we'll need:\n",
        "\n",
        "- The d-dimensional vector of means $\\mu^{(d)}$ and the $d \\times d$ Covariance Matrix $\\sum^{(d \\times d)}$, i.e., the Normal Distribution $N_d$.\n",
        "\n",
        "- If we have this Normal Distribution $N_d$, we can compute the probability of a data point belonging to a Gaussian (Cluster) using a slightly more complex density function:\n",
        "\n",
        "<img src='https://drive.google.com/uc?id=1KptkC_3UwxZDA3OLS0bEgMgbO81IiyEf'>\n",
        "\n",
        "- This is the **Probability Density of the d-Dimensional vector**.\n",
        "\n",
        "(The mathematical derivation of this formula is beyond the scope of this lecture)\n",
        "\n",
        "\n",
        "- If you see, calculating this expression is very compuatationally expensive because of the terms $Σ^{-1}$ and $|Σ|$.\n",
        "\n",
        "- Also, this will have a lots of local minima, which is why Gradient Descent Fails here.\n",
        "\n",
        "- So, to solve this, the **Expectation-Maximization** comes into play.\n",
        "\n",
        "***\n",
        "\n",
        "\n",
        "\n",
        "\n",
        "\n",
        "\n",
        "\n",
        "\n",
        "\n",
        "\n"
      ],
      "metadata": {
        "id": "FhcPA6MiOXQl"
      }
    },
    {
      "cell_type": "markdown",
      "source": [
        "##**Expectation-Maximization Algorithm**\n",
        "\n",
        "- Let θ denote the parameters:\n",
        "  - Probability of point $P$ belonging to $j^{th}$ cluster\n",
        "  - Mean Vector $\\large(μ_{d*d}^j)$\n",
        "  - Covariance Matrix $\\large(Σ_{d*d}^j)$\n",
        "\n",
        "- So, $\\largeθ$ = $[P_j, (μ_{d*d}^j), (Σ_{d*d}^j); ∀_j = 1 → k]$\n",
        "\n",
        "- So, there are two steps here:\n",
        "  1. Expectation\n",
        "  2. Maximization.\n",
        "\n",
        "- The high-level idea here is that:\n",
        "  - In Expectation Step, we'll fix the mean vector and covariance matrix, and update probabilities.\n",
        "\n",
        "  - In Maximization Step, we fix the probabilities and update the mean vector and covariance matrix.\n",
        "\n",
        "To make this more clear, we'll compare EM with a concept called **Coordinate Ascent** approach."
      ],
      "metadata": {
        "id": "H-jYm9k0wgsk"
      }
    },
    {
      "cell_type": "markdown",
      "source": [
        "https://d2beiqkhq929f0.cloudfront.net/public_assets/assets/000/016/181/original/ezgif-5-38f1772929_%281%29.mp4?1665485304"
      ],
      "metadata": {
        "id": "mtOq40CLi8pJ"
      }
    },
    {
      "cell_type": "markdown",
      "source": [
        "####**Coordinate Ascent**\n",
        "\n",
        "- EM algorithm is a special type of   **coordinate ascent** based approach.\n",
        "\n",
        "This is the core idea of **Coordinate Ascent** approach:\n",
        "\n",
        "- Suppose there are two parameters $θ_1$ and $θ_2$ that we are trying to optimize and there is some optimal point.\n",
        "\n",
        "- To reach that point, we maximize $θ_1$ and $θ_2$ for some function $f(θ_1,  θ_2)$\n",
        "\n",
        "<img src=\"https://d2beiqkhq929f0.cloudfront.net/public_assets/assets/000/015/103/original/IMG_BA8F1F5A941B-1.jpeg?1663910817\">\n"
      ],
      "metadata": {
        "id": "zxE1hmoD-Fmx"
      }
    },
    {
      "cell_type": "markdown",
      "source": [
        "Suppose you're starting optimizing at some random values of $θ_1$ and $θ_2$.\n",
        "\n",
        "- What coordinate ascent will do is it will fix one of the parameters (say $θ_1$) and will try to move to the optimal point by updating another parameter ($θ_2$).\n",
        "\n",
        "- In the next step it will fix $θ_2$ and will update $θ_1$ for moving closer to the optimal point.\n",
        "\n",
        "<img src=\"https://d2beiqkhq929f0.cloudfront.net/public_assets/assets/000/015/104/original/IMG_E35D36F5D119-1.jpeg?1663913541\">\n",
        "\n",
        "- In EM algorithm also, for $K$ Gaussians what we're doing is we're fixing all the $K$ mean vectors and covariance matrix(of shape $$) in first step, and updating all the $K$ probabilities.\n",
        "\n",
        "- And, in the second step, we're fixing probabilities and updating mean and standard deviations.\n",
        "\n",
        "Now, let's just see how EM algorithm updates these parameters"
      ],
      "metadata": {
        "id": "-LVvcLr30LUe"
      }
    },
    {
      "cell_type": "markdown",
      "source": [
        "## **GMM Algorithm & Implementation**"
      ],
      "metadata": {
        "id": "In3pktqxhyu4"
      }
    },
    {
      "cell_type": "markdown",
      "source": [
        "There are two steps involved in GMM Algorithm:\n",
        "1. Expectation\n",
        "2. Maximization\n",
        "\n",
        "\n",
        "Lets see what both these steps do.\n",
        "\n",
        "Given a datapoint $x_{i}$ where $i = 1$ to $n$, and $x_{i} \\in D$, we want to find parameters $θ$ that best generated the data.\n",
        "\n",
        "##### **Step-1. Expectation:**\n",
        "\n",
        "  - This is basically an assignment step.\n",
        "\n",
        "  - In this step, for each point $x_{i}$,  we compute the probability of point $x_{i}$ belonging to a $j^{th}$ cluster\n",
        "  \n",
        "  - So, initially we start by randomly assigning a probability such that it belings to $j^{th}$ gaussian ($j^{th}$ cluster).\n",
        "  \n",
        "  - We then compute the probabilities of a point belonging to k different clusters using Probability Density Function\n",
        "\n",
        "\n",
        "<img src='https://drive.google.com/uc?id=15ajXLa4lXrFf2ppt3J1zEXn8E1xP0AHd'>\n",
        "\n",
        "- There might be the case when probabilities of a point belonging to $k$ clusters wont sum up to 1.\n",
        "\n",
        "> **Q. How we will solve that?**\n",
        "- We normalize the probabilties. If there are two clusters, then;\n",
        "  $P_{1} = \\frac{P_{1}}{P_{1} + P_{2}}$, and $P_{2} = \\frac{P_{2}}{P_{1} + P_{2}}$\n",
        "\n",
        "- So, at the  end of this step, for each point, we get a vector of normalized probabilities of that point belonging to each cluster, and they all sum up to 1\n",
        "\n",
        "<img src=\"https://d2beiqkhq929f0.cloudfront.net/public_assets/assets/000/015/101/original/IMG_403D38359C21-1.jpeg?1663908417\">\n",
        "\n",
        "- So, if you notice, on a very high level, GMM works in a similar to K-Means.\n",
        "\n",
        "  - The first step of the GMM (expectation) assigns a point to the cluster based on the probability.\n",
        "\n",
        "  - This is what we do in the K-Means too. We initialize random cluster centroids at the start.\n",
        "\n",
        "- Here in GMMs, we can relate these cluster centroids with the means of the mean vector(μ)\n",
        "\n",
        "<img src='https://d2beiqkhq929f0.cloudfront.net/public_assets/assets/000/015/102/original/IMG_0F016F1D9DF3-1.jpeg?1663908626'>"
      ],
      "metadata": {
        "id": "OXhbsQvWhyoo"
      }
    },
    {
      "cell_type": "markdown",
      "source": [
        "##### **Step-2. Maximization:**\n",
        "\n",
        "- In GMMs, we compute normalized probabilities of each and every point belonging to a cluster.\n",
        "\n",
        "- This is kind of like a soft assignment, whereas in KMeans we did the Hard Assignment by randomly picking centroids.\n",
        "\n",
        "- In the Maximization step, we re-estimate gaussian parameters, for all $K$ gaussians.\n",
        "\n",
        "> **Q. How do we do that?**\n",
        "- We update mean vectore ($\\mu^j$) and covariance vectors ($\\sum^j$) using weighted scheme\n",
        "\n",
        "> Q. **What is weighted scheme?**\n",
        "- Suppose we've to update mean vector($\\mu^j$)\n",
        "- Instead of taking simple average as we do in K-Means, we compute weighted average of each $x_{i}$, where the weightage is based on the probabilities that the point $x_{i} \\in$ cluster $j$\n",
        "\n",
        "- We also compute covariance vector in the same fashion\n",
        "\n",
        "\n",
        "- In the seond step of K-means, we update the points based on the updated centroids of the cluster\n",
        "\n",
        "- Whereas in GMM, we update a point based on the mean (which is same as centroid in K-Means) and covariance. The only difference is that we use weighting scheme in GMM Models\n",
        "\n",
        "<img src='https://drive.google.com/uc?id=1-ny2xnPQ5SeT-9gnsYard8ohNi-hJTEQ'>\n",
        "\n",
        "<img src=\"https://d2beiqkhq929f0.cloudfront.net/public_assets/assets/000/015/106/original/IMG_BAC34D208026-1.jpeg?1663915280\">"
      ],
      "metadata": {
        "id": "9I8gspuyHANc"
      }
    },
    {
      "cell_type": "markdown",
      "source": [
        "#### **Putting it all Together:**\n",
        "\n",
        "- Expectation step computes the probabilities of a point belonging to certain cluster $j$. These probabilities would be normalized.\n",
        "\n",
        "- What it does is it assigns each and every point to a cluster with maximum probability but this is a soft assignment because the point still has a probability(low) of belonging to another cluster..\n",
        "\n",
        "- In K-Means, we make clusters based on the distance we just assign the point to the closest centroid which is hard assignment.\n",
        "\n",
        "- Now, in the second step, recall what we did in KMeans. We update the centroid(mean of cluster) and reassign the points to the closest cluster. This is again hard assignment.\n",
        "\n",
        "- But, In maximization step, we update our parameters (mean vector and covariance matrix) based on the weighted average scheme.\n",
        "\n",
        "- We do this because of the reason that each and every point do not belong to the cluster $j$. It partially belongs to cluster because of the weighted probability.\n",
        "\n",
        "- This is somewhat like Fuzzy Clustering.\n",
        "\n"
      ],
      "metadata": {
        "id": "LB-FSvgrE1Tk"
      }
    },
    {
      "cell_type": "markdown",
      "source": [
        "#### **Quiz:**\n",
        "```\n",
        "K-Means require the number of clusters to be specified in the beginning, whereas GMMs don’t\n",
        "need this prior information. Is this statement True or False?\n",
        "\n",
        "a. True\n",
        "b. False\n",
        "```\n",
        "**Answer**\n",
        "\n",
        "b. False\n",
        "***"
      ],
      "metadata": {
        "id": "MBeoqv1fRg4A"
      }
    },
    {
      "cell_type": "markdown",
      "source": [
        "### **GMM Implementation**"
      ],
      "metadata": {
        "id": "cXo0lBu5X113"
      }
    },
    {
      "cell_type": "markdown",
      "source": [
        "#### Use case: Customer Grouping with DBSCAN\n",
        "\n",
        "In today's lecture, we'll try to segment customers based on 'Wholesale Customers Data'.\n",
        "\n",
        "**Q. What is meant by customer segmentation?**\n",
        "- Customer segmentation is the process by which you divide your customers up based on common characteristics – such as demographics or behaviours, so you can market to those customers more effectively.\n",
        "\n",
        "- Almost all the companies in today's world, one way or other, make use of customer segmentation for marketing.\n",
        "\n",
        "**Q. But, how would we segment the customers based on some numbers present in the data?**\n",
        "\n",
        "- So far, we have seen K-Means which is a centroid based algorithm.\n",
        "\n",
        "- We saw Agglomerative Clustering which is hierarchical system.\n",
        "\n",
        "- Today we will see an overview (very high level) for 2 more clustering algorithms. The goal for this lecture is not to go into detail about these algorithms but to just get intuitive understanding of how they work, since they are not as popular in the community.\n",
        "\n",
        "- We'll use these algorithms to do the segmentation of the customers on 'Wholesale Customers Data'.\n",
        "\n",
        "- First, we will start with DBSCAN which is more of density based; i.e. the clustering should be done on the basis of how dense a neighborhood around a point."
      ],
      "metadata": {
        "id": "xHy-lhpm1SWw"
      }
    },
    {
      "cell_type": "markdown",
      "source": [
        "Before jumping in, let's first understand and import the data, and try to visualize it on a plot.\n",
        "\n",
        "#### **Dataset - Wholesale Customers Data**\n",
        "\n",
        "The dataset used for this case study contains the following parameters:\n",
        "\n",
        "1. **Fresh:** annual spending (some monetary unit) on fresh products (Continuous);\n",
        "2. **Milk:** annual spending (some monetary unit) on milk products (Continuous);\n",
        "3. **Grocery:** annual spending (some monetary unit) on grocery products (Continuous);\n",
        "4. **Frozen:** annual spending (some m.u.) on frozen products (Continuous)\n",
        "5. **Detergentss_Paper:** annual spending (some m.u.) on detergents and paper products (Continuous)\n",
        "6. **Delicassen:** annual spending (some m.u.) on and delicatessen products (Continuous);\n",
        "7. **Channel:** customers Channel - (Two possible values: Horeca (Hotel/Restaurant/Cafe) or Retail channel) (Nominal)\n",
        "8. **Region:** customers Region (Three possible values: Lisnon, Oporto or Other) (Nominal)"
      ],
      "metadata": {
        "id": "m81uF3zt1isl"
      }
    },
    {
      "cell_type": "code",
      "source": [
        "!gdown 10ZdMFvfhGeXAa8xR0J00kHIHp9y9m9uL"
      ],
      "metadata": {
        "colab": {
          "base_uri": "https://localhost:8080/"
        },
        "id": "Mt9nulS-28QU",
        "outputId": "bc8ad5e7-e16a-4234-d961-7ac147dd8eda"
      },
      "execution_count": null,
      "outputs": [
        {
          "output_type": "stream",
          "name": "stdout",
          "text": [
            "Downloading...\n",
            "From: https://drive.google.com/uc?id=10ZdMFvfhGeXAa8xR0J00kHIHp9y9m9uL\n",
            "To: /content/wholesaledata.csv\n",
            "\r  0% 0.00/15.0k [00:00<?, ?B/s]\r100% 15.0k/15.0k [00:00<00:00, 30.8MB/s]\n"
          ]
        }
      ]
    },
    {
      "cell_type": "code",
      "source": [
        "from sklearn.cluster import DBSCAN\n",
        "from sklearn.preprocessing import StandardScaler\n",
        "import numpy as np\n",
        "import pandas as pd\n",
        "import matplotlib.pyplot as plt\n",
        "plt.rcParams[\"figure.figsize\"] = (16,12)"
      ],
      "metadata": {
        "id": "z7MgDRhT29k3"
      },
      "execution_count": null,
      "outputs": []
    },
    {
      "cell_type": "code",
      "source": [
        "df = pd.read_csv('./wholesaledata.csv')\n",
        "df.info()"
      ],
      "metadata": {
        "colab": {
          "base_uri": "https://localhost:8080/"
        },
        "id": "0G7mAiaC3Kq7",
        "outputId": "0a2b5957-91b5-4136-8608-226e74d84e67"
      },
      "execution_count": null,
      "outputs": [
        {
          "output_type": "stream",
          "name": "stdout",
          "text": [
            "<class 'pandas.core.frame.DataFrame'>\n",
            "RangeIndex: 440 entries, 0 to 439\n",
            "Data columns (total 8 columns):\n",
            " #   Column            Non-Null Count  Dtype\n",
            "---  ------            --------------  -----\n",
            " 0   Channel           440 non-null    int64\n",
            " 1   Region            440 non-null    int64\n",
            " 2   Fresh             440 non-null    int64\n",
            " 3   Milk              440 non-null    int64\n",
            " 4   Grocery           440 non-null    int64\n",
            " 5   Frozen            440 non-null    int64\n",
            " 6   Detergents_Paper  440 non-null    int64\n",
            " 7   Delicassen        440 non-null    int64\n",
            "dtypes: int64(8)\n",
            "memory usage: 27.6 KB\n"
          ]
        }
      ]
    },
    {
      "cell_type": "code",
      "source": [
        "df.head()"
      ],
      "metadata": {
        "colab": {
          "base_uri": "https://localhost:8080/",
          "height": 206
        },
        "id": "Yc3uWZ0V3KoB",
        "outputId": "fa41f240-5f23-4135-babd-ab2edde2ace7"
      },
      "execution_count": null,
      "outputs": [
        {
          "output_type": "execute_result",
          "data": {
            "text/plain": [
              "   Channel  Region  Fresh  Milk  Grocery  Frozen  Detergents_Paper  Delicassen\n",
              "0        2       3  12669  9656     7561     214              2674        1338\n",
              "1        2       3   7057  9810     9568    1762              3293        1776\n",
              "2        2       3   6353  8808     7684    2405              3516        7844\n",
              "3        1       3  13265  1196     4221    6404               507        1788\n",
              "4        2       3  22615  5410     7198    3915              1777        5185"
            ],
            "text/html": [
              "\n",
              "  <div id=\"df-a0653475-7c4b-4a7a-878b-67084da09243\" class=\"colab-df-container\">\n",
              "    <div>\n",
              "<style scoped>\n",
              "    .dataframe tbody tr th:only-of-type {\n",
              "        vertical-align: middle;\n",
              "    }\n",
              "\n",
              "    .dataframe tbody tr th {\n",
              "        vertical-align: top;\n",
              "    }\n",
              "\n",
              "    .dataframe thead th {\n",
              "        text-align: right;\n",
              "    }\n",
              "</style>\n",
              "<table border=\"1\" class=\"dataframe\">\n",
              "  <thead>\n",
              "    <tr style=\"text-align: right;\">\n",
              "      <th></th>\n",
              "      <th>Channel</th>\n",
              "      <th>Region</th>\n",
              "      <th>Fresh</th>\n",
              "      <th>Milk</th>\n",
              "      <th>Grocery</th>\n",
              "      <th>Frozen</th>\n",
              "      <th>Detergents_Paper</th>\n",
              "      <th>Delicassen</th>\n",
              "    </tr>\n",
              "  </thead>\n",
              "  <tbody>\n",
              "    <tr>\n",
              "      <th>0</th>\n",
              "      <td>2</td>\n",
              "      <td>3</td>\n",
              "      <td>12669</td>\n",
              "      <td>9656</td>\n",
              "      <td>7561</td>\n",
              "      <td>214</td>\n",
              "      <td>2674</td>\n",
              "      <td>1338</td>\n",
              "    </tr>\n",
              "    <tr>\n",
              "      <th>1</th>\n",
              "      <td>2</td>\n",
              "      <td>3</td>\n",
              "      <td>7057</td>\n",
              "      <td>9810</td>\n",
              "      <td>9568</td>\n",
              "      <td>1762</td>\n",
              "      <td>3293</td>\n",
              "      <td>1776</td>\n",
              "    </tr>\n",
              "    <tr>\n",
              "      <th>2</th>\n",
              "      <td>2</td>\n",
              "      <td>3</td>\n",
              "      <td>6353</td>\n",
              "      <td>8808</td>\n",
              "      <td>7684</td>\n",
              "      <td>2405</td>\n",
              "      <td>3516</td>\n",
              "      <td>7844</td>\n",
              "    </tr>\n",
              "    <tr>\n",
              "      <th>3</th>\n",
              "      <td>1</td>\n",
              "      <td>3</td>\n",
              "      <td>13265</td>\n",
              "      <td>1196</td>\n",
              "      <td>4221</td>\n",
              "      <td>6404</td>\n",
              "      <td>507</td>\n",
              "      <td>1788</td>\n",
              "    </tr>\n",
              "    <tr>\n",
              "      <th>4</th>\n",
              "      <td>2</td>\n",
              "      <td>3</td>\n",
              "      <td>22615</td>\n",
              "      <td>5410</td>\n",
              "      <td>7198</td>\n",
              "      <td>3915</td>\n",
              "      <td>1777</td>\n",
              "      <td>5185</td>\n",
              "    </tr>\n",
              "  </tbody>\n",
              "</table>\n",
              "</div>\n",
              "    <div class=\"colab-df-buttons\">\n",
              "\n",
              "  <div class=\"colab-df-container\">\n",
              "    <button class=\"colab-df-convert\" onclick=\"convertToInteractive('df-a0653475-7c4b-4a7a-878b-67084da09243')\"\n",
              "            title=\"Convert this dataframe to an interactive table.\"\n",
              "            style=\"display:none;\">\n",
              "\n",
              "  <svg xmlns=\"http://www.w3.org/2000/svg\" height=\"24px\" viewBox=\"0 -960 960 960\">\n",
              "    <path d=\"M120-120v-720h720v720H120Zm60-500h600v-160H180v160Zm220 220h160v-160H400v160Zm0 220h160v-160H400v160ZM180-400h160v-160H180v160Zm440 0h160v-160H620v160ZM180-180h160v-160H180v160Zm440 0h160v-160H620v160Z\"/>\n",
              "  </svg>\n",
              "    </button>\n",
              "\n",
              "  <style>\n",
              "    .colab-df-container {\n",
              "      display:flex;\n",
              "      gap: 12px;\n",
              "    }\n",
              "\n",
              "    .colab-df-convert {\n",
              "      background-color: #E8F0FE;\n",
              "      border: none;\n",
              "      border-radius: 50%;\n",
              "      cursor: pointer;\n",
              "      display: none;\n",
              "      fill: #1967D2;\n",
              "      height: 32px;\n",
              "      padding: 0 0 0 0;\n",
              "      width: 32px;\n",
              "    }\n",
              "\n",
              "    .colab-df-convert:hover {\n",
              "      background-color: #E2EBFA;\n",
              "      box-shadow: 0px 1px 2px rgba(60, 64, 67, 0.3), 0px 1px 3px 1px rgba(60, 64, 67, 0.15);\n",
              "      fill: #174EA6;\n",
              "    }\n",
              "\n",
              "    .colab-df-buttons div {\n",
              "      margin-bottom: 4px;\n",
              "    }\n",
              "\n",
              "    [theme=dark] .colab-df-convert {\n",
              "      background-color: #3B4455;\n",
              "      fill: #D2E3FC;\n",
              "    }\n",
              "\n",
              "    [theme=dark] .colab-df-convert:hover {\n",
              "      background-color: #434B5C;\n",
              "      box-shadow: 0px 1px 3px 1px rgba(0, 0, 0, 0.15);\n",
              "      filter: drop-shadow(0px 1px 2px rgba(0, 0, 0, 0.3));\n",
              "      fill: #FFFFFF;\n",
              "    }\n",
              "  </style>\n",
              "\n",
              "    <script>\n",
              "      const buttonEl =\n",
              "        document.querySelector('#df-a0653475-7c4b-4a7a-878b-67084da09243 button.colab-df-convert');\n",
              "      buttonEl.style.display =\n",
              "        google.colab.kernel.accessAllowed ? 'block' : 'none';\n",
              "\n",
              "      async function convertToInteractive(key) {\n",
              "        const element = document.querySelector('#df-a0653475-7c4b-4a7a-878b-67084da09243');\n",
              "        const dataTable =\n",
              "          await google.colab.kernel.invokeFunction('convertToInteractive',\n",
              "                                                    [key], {});\n",
              "        if (!dataTable) return;\n",
              "\n",
              "        const docLinkHtml = 'Like what you see? Visit the ' +\n",
              "          '<a target=\"_blank\" href=https://colab.research.google.com/notebooks/data_table.ipynb>data table notebook</a>'\n",
              "          + ' to learn more about interactive tables.';\n",
              "        element.innerHTML = '';\n",
              "        dataTable['output_type'] = 'display_data';\n",
              "        await google.colab.output.renderOutput(dataTable, element);\n",
              "        const docLink = document.createElement('div');\n",
              "        docLink.innerHTML = docLinkHtml;\n",
              "        element.appendChild(docLink);\n",
              "      }\n",
              "    </script>\n",
              "  </div>\n",
              "\n",
              "\n",
              "<div id=\"df-2689697d-b713-487e-8e88-9d09d49df128\">\n",
              "  <button class=\"colab-df-quickchart\" onclick=\"quickchart('df-2689697d-b713-487e-8e88-9d09d49df128')\"\n",
              "            title=\"Suggest charts\"\n",
              "            style=\"display:none;\">\n",
              "\n",
              "<svg xmlns=\"http://www.w3.org/2000/svg\" height=\"24px\"viewBox=\"0 0 24 24\"\n",
              "     width=\"24px\">\n",
              "    <g>\n",
              "        <path d=\"M19 3H5c-1.1 0-2 .9-2 2v14c0 1.1.9 2 2 2h14c1.1 0 2-.9 2-2V5c0-1.1-.9-2-2-2zM9 17H7v-7h2v7zm4 0h-2V7h2v10zm4 0h-2v-4h2v4z\"/>\n",
              "    </g>\n",
              "</svg>\n",
              "  </button>\n",
              "\n",
              "<style>\n",
              "  .colab-df-quickchart {\n",
              "      --bg-color: #E8F0FE;\n",
              "      --fill-color: #1967D2;\n",
              "      --hover-bg-color: #E2EBFA;\n",
              "      --hover-fill-color: #174EA6;\n",
              "      --disabled-fill-color: #AAA;\n",
              "      --disabled-bg-color: #DDD;\n",
              "  }\n",
              "\n",
              "  [theme=dark] .colab-df-quickchart {\n",
              "      --bg-color: #3B4455;\n",
              "      --fill-color: #D2E3FC;\n",
              "      --hover-bg-color: #434B5C;\n",
              "      --hover-fill-color: #FFFFFF;\n",
              "      --disabled-bg-color: #3B4455;\n",
              "      --disabled-fill-color: #666;\n",
              "  }\n",
              "\n",
              "  .colab-df-quickchart {\n",
              "    background-color: var(--bg-color);\n",
              "    border: none;\n",
              "    border-radius: 50%;\n",
              "    cursor: pointer;\n",
              "    display: none;\n",
              "    fill: var(--fill-color);\n",
              "    height: 32px;\n",
              "    padding: 0;\n",
              "    width: 32px;\n",
              "  }\n",
              "\n",
              "  .colab-df-quickchart:hover {\n",
              "    background-color: var(--hover-bg-color);\n",
              "    box-shadow: 0 1px 2px rgba(60, 64, 67, 0.3), 0 1px 3px 1px rgba(60, 64, 67, 0.15);\n",
              "    fill: var(--button-hover-fill-color);\n",
              "  }\n",
              "\n",
              "  .colab-df-quickchart-complete:disabled,\n",
              "  .colab-df-quickchart-complete:disabled:hover {\n",
              "    background-color: var(--disabled-bg-color);\n",
              "    fill: var(--disabled-fill-color);\n",
              "    box-shadow: none;\n",
              "  }\n",
              "\n",
              "  .colab-df-spinner {\n",
              "    border: 2px solid var(--fill-color);\n",
              "    border-color: transparent;\n",
              "    border-bottom-color: var(--fill-color);\n",
              "    animation:\n",
              "      spin 1s steps(1) infinite;\n",
              "  }\n",
              "\n",
              "  @keyframes spin {\n",
              "    0% {\n",
              "      border-color: transparent;\n",
              "      border-bottom-color: var(--fill-color);\n",
              "      border-left-color: var(--fill-color);\n",
              "    }\n",
              "    20% {\n",
              "      border-color: transparent;\n",
              "      border-left-color: var(--fill-color);\n",
              "      border-top-color: var(--fill-color);\n",
              "    }\n",
              "    30% {\n",
              "      border-color: transparent;\n",
              "      border-left-color: var(--fill-color);\n",
              "      border-top-color: var(--fill-color);\n",
              "      border-right-color: var(--fill-color);\n",
              "    }\n",
              "    40% {\n",
              "      border-color: transparent;\n",
              "      border-right-color: var(--fill-color);\n",
              "      border-top-color: var(--fill-color);\n",
              "    }\n",
              "    60% {\n",
              "      border-color: transparent;\n",
              "      border-right-color: var(--fill-color);\n",
              "    }\n",
              "    80% {\n",
              "      border-color: transparent;\n",
              "      border-right-color: var(--fill-color);\n",
              "      border-bottom-color: var(--fill-color);\n",
              "    }\n",
              "    90% {\n",
              "      border-color: transparent;\n",
              "      border-bottom-color: var(--fill-color);\n",
              "    }\n",
              "  }\n",
              "</style>\n",
              "\n",
              "  <script>\n",
              "    async function quickchart(key) {\n",
              "      const quickchartButtonEl =\n",
              "        document.querySelector('#' + key + ' button');\n",
              "      quickchartButtonEl.disabled = true;  // To prevent multiple clicks.\n",
              "      quickchartButtonEl.classList.add('colab-df-spinner');\n",
              "      try {\n",
              "        const charts = await google.colab.kernel.invokeFunction(\n",
              "            'suggestCharts', [key], {});\n",
              "      } catch (error) {\n",
              "        console.error('Error during call to suggestCharts:', error);\n",
              "      }\n",
              "      quickchartButtonEl.classList.remove('colab-df-spinner');\n",
              "      quickchartButtonEl.classList.add('colab-df-quickchart-complete');\n",
              "    }\n",
              "    (() => {\n",
              "      let quickchartButtonEl =\n",
              "        document.querySelector('#df-2689697d-b713-487e-8e88-9d09d49df128 button');\n",
              "      quickchartButtonEl.style.display =\n",
              "        google.colab.kernel.accessAllowed ? 'block' : 'none';\n",
              "    })();\n",
              "  </script>\n",
              "</div>\n",
              "    </div>\n",
              "  </div>\n"
            ],
            "application/vnd.google.colaboratory.intrinsic+json": {
              "type": "dataframe",
              "variable_name": "df",
              "summary": "{\n  \"name\": \"df\",\n  \"rows\": 440,\n  \"fields\": [\n    {\n      \"column\": \"Channel\",\n      \"properties\": {\n        \"dtype\": \"number\",\n        \"std\": 0,\n        \"min\": 1,\n        \"max\": 2,\n        \"num_unique_values\": 2,\n        \"samples\": [\n          1,\n          2\n        ],\n        \"semantic_type\": \"\",\n        \"description\": \"\"\n      }\n    },\n    {\n      \"column\": \"Region\",\n      \"properties\": {\n        \"dtype\": \"number\",\n        \"std\": 0,\n        \"min\": 1,\n        \"max\": 3,\n        \"num_unique_values\": 3,\n        \"samples\": [\n          3,\n          1\n        ],\n        \"semantic_type\": \"\",\n        \"description\": \"\"\n      }\n    },\n    {\n      \"column\": \"Fresh\",\n      \"properties\": {\n        \"dtype\": \"number\",\n        \"std\": 12647,\n        \"min\": 3,\n        \"max\": 112151,\n        \"num_unique_values\": 433,\n        \"samples\": [\n          21117,\n          20398\n        ],\n        \"semantic_type\": \"\",\n        \"description\": \"\"\n      }\n    },\n    {\n      \"column\": \"Milk\",\n      \"properties\": {\n        \"dtype\": \"number\",\n        \"std\": 7380,\n        \"min\": 55,\n        \"max\": 73498,\n        \"num_unique_values\": 421,\n        \"samples\": [\n          8384,\n          7184\n        ],\n        \"semantic_type\": \"\",\n        \"description\": \"\"\n      }\n    },\n    {\n      \"column\": \"Grocery\",\n      \"properties\": {\n        \"dtype\": \"number\",\n        \"std\": 9503,\n        \"min\": 3,\n        \"max\": 92780,\n        \"num_unique_values\": 430,\n        \"samples\": [\n          5160,\n          3\n        ],\n        \"semantic_type\": \"\",\n        \"description\": \"\"\n      }\n    },\n    {\n      \"column\": \"Frozen\",\n      \"properties\": {\n        \"dtype\": \"number\",\n        \"std\": 4854,\n        \"min\": 25,\n        \"max\": 60869,\n        \"num_unique_values\": 426,\n        \"samples\": [\n          269,\n          7530\n        ],\n        \"semantic_type\": \"\",\n        \"description\": \"\"\n      }\n    },\n    {\n      \"column\": \"Detergents_Paper\",\n      \"properties\": {\n        \"dtype\": \"number\",\n        \"std\": 4767,\n        \"min\": 3,\n        \"max\": 40827,\n        \"num_unique_values\": 417,\n        \"samples\": [\n          302,\n          6740\n        ],\n        \"semantic_type\": \"\",\n        \"description\": \"\"\n      }\n    },\n    {\n      \"column\": \"Delicassen\",\n      \"properties\": {\n        \"dtype\": \"number\",\n        \"std\": 2820,\n        \"min\": 3,\n        \"max\": 47943,\n        \"num_unique_values\": 403,\n        \"samples\": [\n          14472,\n          172\n        ],\n        \"semantic_type\": \"\",\n        \"description\": \"\"\n      }\n    }\n  ]\n}"
            }
          },
          "metadata": {},
          "execution_count": 4
        }
      ]
    },
    {
      "cell_type": "markdown",
      "source": [
        "- The dataset consists of 440 customers and has 8 attributes for each of these customers.\n",
        "\n",
        "- No missing values\n",
        "\n",
        "- Only two variables are **non-continuous (categorical)** in nature: Channel and Region.\n",
        "\n",
        "- So for easing our computations, we will drop these two categorical features."
      ],
      "metadata": {
        "id": "NvANYw9_3ReL"
      }
    },
    {
      "cell_type": "code",
      "source": [
        "# Dropping categorical variables for simplicity\n",
        "df.drop([\"Channel\", \"Region\"], axis = 1, inplace = True)"
      ],
      "metadata": {
        "id": "VY3WBWSx3KkW"
      },
      "execution_count": null,
      "outputs": []
    },
    {
      "cell_type": "markdown",
      "source": [
        "#### **Visualizing the data in 2D**\n",
        "\n",
        "Using 2 features:\n",
        "\n",
        "1. **Grocery:** The customer’s annual spending (in some monetary unit) on grocery products.\n",
        "2. **Milk:** The customer’s annual spending (in some monetary unit) on milk products.\n",
        "\n",
        "#### Let's plot two features data now:"
      ],
      "metadata": {
        "id": "cXtSuhei3ds6"
      }
    },
    {
      "cell_type": "code",
      "source": [
        "x = df['Grocery']\n",
        "y = df['Milk']\n",
        "\n",
        "plt.scatter(x,y)\n",
        "plt.xlabel(\"Groceries\")\n",
        "plt.ylabel(\"Milk\")\n",
        "plt.show()"
      ],
      "metadata": {
        "colab": {
          "base_uri": "https://localhost:8080/",
          "height": 636
        },
        "id": "rFwHDc7J3KdI",
        "outputId": "ceaa1449-54a1-4093-cef2-762678b6c8c3"
      },
      "execution_count": null,
      "outputs": [
        {
          "output_type": "display_data",
          "data": {
            "text/plain": [
              "<Figure size 1600x1200 with 1 Axes>"
            ],
            "image/png": "[encoded data removed]"
          },
          "metadata": {}
        }
      ]
    },
    {
      "cell_type": "markdown",
      "source": [
        "Let us now implement GMM with help of sklearn's GaussianMixture() class.\n",
        "\n",
        "We'll also compare GMM with K-Means, and you'll get to see how GMM performs relatively similar to the K-Means\n",
        "\n"
      ],
      "metadata": {
        "id": "d8V1PhwEX4HB"
      }
    },
    {
      "cell_type": "code",
      "source": [
        "!gdown 1TyC3sl4OM-NhmUTcCt4NN8nDZOWHOBrh"
      ],
      "metadata": {
        "colab": {
          "base_uri": "https://localhost:8080/"
        },
        "id": "yNc4O07iBpPi",
        "outputId": "0ab1a307-a0dc-4c8c-f3dc-d1f7ccd38c02"
      },
      "execution_count": null,
      "outputs": [
        {
          "output_type": "stream",
          "name": "stdout",
          "text": [
            "Downloading...\n",
            "From: https://drive.google.com/uc?id=1TyC3sl4OM-NhmUTcCt4NN8nDZOWHOBrh\n",
            "To: /content/std_df_gmm.pkl\n",
            "\r  0% 0.00/7.19k [00:00<?, ?B/s]\r100% 7.19k/7.19k [00:00<00:00, 25.3MB/s]\n"
          ]
        }
      ]
    },
    {
      "cell_type": "code",
      "source": [],
      "metadata": {
        "id": "nIPXzZiNT-G1"
      },
      "execution_count": null,
      "outputs": []
    },
    {
      "cell_type": "code",
      "source": [
        "!gdown 1Z6nMciyzLvw9fdt8ajdNDebkRTbj5FW-"
      ],
      "metadata": {
        "colab": {
          "base_uri": "https://localhost:8080/"
        },
        "id": "5V63-96tCX7B",
        "outputId": "809b5ad9-5a44-4087-fba7-d3a7c07e73a3"
      },
      "execution_count": null,
      "outputs": [
        {
          "output_type": "stream",
          "name": "stdout",
          "text": [
            "Downloading...\n",
            "From: https://drive.google.com/uc?id=1Z6nMciyzLvw9fdt8ajdNDebkRTbj5FW-\n",
            "To: /content/df_gmm.pkl\n",
            "\r  0% 0.00/7.71k [00:00<?, ?B/s]\r100% 7.71k/7.71k [00:00<00:00, 16.6MB/s]\n"
          ]
        }
      ]
    },
    {
      "cell_type": "code",
      "source": [
        "from sklearn.cluster import DBSCAN\n",
        "from sklearn.preprocessing import StandardScaler\n",
        "import numpy as np\n",
        "import pandas as pd\n",
        "import matplotlib.pyplot as plt\n",
        "plt.rcParams[\"figure.figsize\"] = (16,12)"
      ],
      "metadata": {
        "id": "7yg746uCCEh3"
      },
      "execution_count": null,
      "outputs": []
    },
    {
      "cell_type": "code",
      "source": [
        "import pickle"
      ],
      "metadata": {
        "id": "fHtRdwvaB5Un"
      },
      "execution_count": null,
      "outputs": []
    },
    {
      "cell_type": "code",
      "source": [
        "with open('/content/std_df_gmm.pkl','rb') as f:\n",
        "    std_df = pickle.load(f)\n",
        "\n",
        "\n",
        "with open('/content/df_gmm.pkl','rb') as f:\n",
        "    df = pickle.load(f)"
      ],
      "metadata": {
        "id": "7oJg2thgB6ge"
      },
      "execution_count": null,
      "outputs": []
    },
    {
      "cell_type": "code",
      "source": [
        "std_df"
      ],
      "metadata": {
        "colab": {
          "base_uri": "https://localhost:8080/"
        },
        "id": "G9TXyh31UBps",
        "outputId": "29cc908c-0599-434c-8031-4e36ab39feb7"
      },
      "execution_count": null,
      "outputs": [
        {
          "output_type": "execute_result",
          "data": {
            "text/plain": [
              "array([[-4.11148934e-02,  5.23567773e-01],\n",
              "       [ 1.70318354e-01,  5.44457667e-01],\n",
              "       [-2.81571010e-02,  4.08537706e-01],\n",
              "       [-3.92976899e-01, -6.24019925e-01],\n",
              "       [-7.93561833e-02, -5.23964546e-02],\n",
              "       [-2.97637045e-01,  3.34066589e-01],\n",
              "       [-1.02848766e-01, -3.52315651e-01],\n",
              "       [ 1.55358951e-01, -1.13980948e-01],\n",
              "       [-1.85336177e-01, -2.91409401e-01],\n",
              "       [ 1.15142340e+00,  7.18494904e-01],\n",
              "       [ 5.29133322e-01, -5.33459952e-02],\n",
              "       [-3.61161832e-01, -6.33786629e-01],\n",
              "       [ 4.00924920e-01,  8.84800166e-01],\n",
              "       [ 7.40671917e-01,  5.58511794e-02],\n",
              "       [ 4.36111121e-01,  4.97658878e-01],\n",
              "       [-4.35116062e-01, -6.35143116e-01],\n",
              "       [ 4.39271558e-01,  4.09622895e-01],\n",
              "       [-5.28665002e-01,  4.89330975e-02],\n",
              "       [ 2.26258092e-01,  7.19933704e-02],\n",
              "       [ 1.59362172e-01, -4.47812310e-01],\n",
              "       [-3.52839347e-01, -1.73259414e-01],\n",
              "       [-6.25901120e-01, -6.68105741e-01],\n",
              "       [-3.66850619e-01, -5.26217238e-01],\n",
              "       [ 1.48200513e+00,  4.15447557e+00],\n",
              "       [ 6.15307909e-01,  5.39845613e-01],\n",
              "       [-3.75330646e-02, -2.12461878e-01],\n",
              "       [-5.36250052e-01, -6.55897361e-01],\n",
              "       [-5.16866037e-01, -6.77329850e-01],\n",
              "       [ 1.89686519e+00,  1.99237151e+00],\n",
              "       [-5.62797724e-01, -5.01393533e-01],\n",
              "       [ 3.32448781e-01, -2.96564050e-01],\n",
              "       [-5.07595421e-01, -1.97676174e-01],\n",
              "       [-5.33616354e-01, -6.07470788e-01],\n",
              "       [-6.58716513e-02, -1.37041221e-01],\n",
              "       [-5.99353447e-01, -5.17807021e-01],\n",
              "       [ 3.30763215e-01, -4.14089128e-02],\n",
              "       [-2.65821977e-01, -1.94556255e-01],\n",
              "       [ 4.76775412e-01,  6.45651571e-01],\n",
              "       [ 9.22607751e-01,  1.34736211e+00],\n",
              "       [-7.42626599e-01, -7.10970719e-01],\n",
              "       [-3.36510422e-01, -1.98625714e-01],\n",
              "       [-2.10198283e-01, -3.70492572e-01],\n",
              "       [ 7.38459611e-01,  2.38569930e-01],\n",
              "       [ 1.69048864e+00,  7.18766201e-01],\n",
              "       [ 2.65447513e-01,  1.66947435e-01],\n",
              "       [ 1.43059535e+00,  2.20398342e+00],\n",
              "       [ 1.47526287e+00,  1.12218533e+00],\n",
              "       [ 5.01663807e+00,  6.57390514e+00],\n",
              "       [ 3.07270632e-01,  4.82548542e-02],\n",
              "       [ 2.20911638e+00,  2.11825347e+00],\n",
              "       [-6.29061557e-01, -6.37720440e-01],\n",
              "       [-1.00636460e-01, -2.36742989e-01],\n",
              "       [-2.18626115e-01, -2.55055559e-01],\n",
              "       [ 3.77221641e-01,  6.34392732e-01],\n",
              "       [-6.32538038e-01, -5.89700813e-01],\n",
              "       [-3.10384141e-01, -2.86661697e-01],\n",
              "       [ 1.99262643e+00,  3.26855414e+00],\n",
              "       [ 2.67133079e-01,  5.61142453e-01],\n",
              "       [-6.64037062e-01, -5.19027859e-01],\n",
              "       [ 9.34675353e-03, -5.91788878e-02],\n",
              "       [-1.02479570e-02, -3.73205545e-01],\n",
              "       [ 5.44087409e+00,  4.41844787e+00],\n",
              "       [-1.48253714e-01,  6.08701800e-02],\n",
              "       [ 8.24212806e-01,  7.87404425e-01],\n",
              "       [-4.95269716e-01, -6.19814816e-01],\n",
              "       [ 3.99023342e+00,  2.05680462e+00],\n",
              "       [-5.62849919e-02, -5.78170677e-01],\n",
              "       [ 5.80543100e-01,  1.30593593e-01],\n",
              "       [-4.16996222e-01,  1.98553574e-01],\n",
              "       [-7.01435568e-01, -4.03726495e-01],\n",
              "       [-5.00326416e-01, -5.09939399e-01],\n",
              "       [ 1.37908023e+00, -6.14524519e-01],\n",
              "       [-5.57319633e-01, -8.91572425e-02],\n",
              "       [ 8.02458943e-02, -6.29770504e-02],\n",
              "       [ 1.94126981e-01,  7.41637491e-02],\n",
              "       [-8.37334367e-01, -6.32023196e-01],\n",
              "       [-1.49517889e-01, -2.99683969e-01],\n",
              "       [ 2.16897883e+00,  9.36075361e-01],\n",
              "       [-6.19896289e-01, -6.26868547e-01],\n",
              "       [-4.52603814e-01, -3.44176731e-01],\n",
              "       [-5.20658561e-01, -6.73802985e-01],\n",
              "       [ 6.79675479e-01,  5.07832528e-01],\n",
              "       [ 3.22124686e-01,  4.66052740e-01],\n",
              "       [-6.49815094e-01, -5.74236865e-01],\n",
              "       [-3.30505591e-01, -3.34952622e-01],\n",
              "       [ 8.93652831e+00,  5.48030561e+00],\n",
              "       [ 2.54549224e+00,  9.18364979e+00],\n",
              "       [ 1.74585423e-02, -1.04621190e-01],\n",
              "       [-4.11834175e-01, -7.12734151e-01],\n",
              "       [-2.76146072e-01, -2.65907452e-01],\n",
              "       [-6.65090541e-01, -7.05409124e-01],\n",
              "       [-5.71120208e-01, -4.11594117e-01],\n",
              "       [ 2.53706441e+00,  2.94028437e+00],\n",
              "       [-6.20423028e-01, -3.67101355e-01],\n",
              "       [ 3.55203929e-01,  8.71370948e-01],\n",
              "       [-1.79015302e-01, -3.90161628e-01],\n",
              "       [ 1.75638902e-02, -4.31398822e-01],\n",
              "       [-7.73388188e-01, -7.51800967e-01],\n",
              "       [-7.55689740e-01, -7.71063077e-01],\n",
              "       [-6.36541258e-01, -4.90270342e-01],\n",
              "       [ 4.41694560e-01,  2.68955231e-01],\n",
              "       [ 8.76043976e-01,  6.80106332e-01],\n",
              "       [-2.88945363e-02,  8.98989941e-02],\n",
              "       [ 1.00578040e-01, -3.10942808e-01],\n",
              "       [-4.74726874e-01, -4.97052775e-01],\n",
              "       [-4.19419224e-01, -6.48707982e-01],\n",
              "       [ 2.89993575e-01,  7.33498571e-02],\n",
              "       [ 7.30558518e-01,  6.57859951e-01],\n",
              "       [-1.02216679e-01,  3.52786105e-01],\n",
              "       [ 2.21596399e+00,  1.48301077e+00],\n",
              "       [-6.59191058e-01, -5.62706729e-01],\n",
              "       [ 1.01320695e+00,  7.21343525e-01],\n",
              "       [-5.77546431e-01, -4.10508928e-01],\n",
              "       [-6.55082490e-01, -4.74942043e-01],\n",
              "       [-6.26954599e-01, -6.39755170e-01],\n",
              "       [-5.22870868e-01, -6.78686337e-01],\n",
              "       [-4.84208186e-01, -4.44285445e-01],\n",
              "       [-2.70878676e-01, -2.59938911e-01],\n",
              "       [-5.88818657e-01, -5.29744104e-01],\n",
              "       [-6.11468456e-01, -4.68295259e-01],\n",
              "       [-4.78203355e-01, -6.23477330e-01],\n",
              "       [-6.79839247e-01, -3.47567948e-01],\n",
              "       [-8.11840174e-01, -7.58990346e-01],\n",
              "       [ 9.08860328e-02,  6.74544736e-01],\n",
              "       [-5.25715261e-01, -5.63520621e-01],\n",
              "       [-8.94695823e-02, -3.15147917e-01],\n",
              "       [-6.62983582e-01, -5.36662185e-01],\n",
              "       [ 2.87991965e-01,  1.96247547e-01],\n",
              "       [-4.34905366e-01,  4.13828004e-01],\n",
              "       [-6.78575073e-01, -6.60645064e-01],\n",
              "       [-7.64012224e-01, -4.56900771e-01],\n",
              "       [-8.04571168e-01, -7.06358664e-01],\n",
              "       [-5.76492952e-01, -5.10617642e-01],\n",
              "       [-7.07545747e-01, -6.44909819e-01],\n",
              "       [-6.08624063e-01, -5.30964942e-01],\n",
              "       [-5.64693986e-01, -6.11404599e-01],\n",
              "       [-9.70546315e-02,  3.77474162e-01],\n",
              "       [ 3.48409468e-02,  3.09785479e-01],\n",
              "       [-3.07329052e-01, -2.08799364e-01],\n",
              "       [-4.85472361e-01, -1.10861029e-01],\n",
              "       [-6.80839574e-02, -2.05679445e-01],\n",
              "       [-2.91000126e-01,  1.01136037e+00],\n",
              "       [ 3.17858575e-02,  1.83903518e-01],\n",
              "       [-7.22189106e-01, -5.69760459e-01],\n",
              "       [-6.28218774e-01, -2.87475589e-01],\n",
              "       [ 2.82761393e+00,  3.51022672e-01],\n",
              "       [-6.08308019e-01, -5.23639914e-01],\n",
              "       [-5.52473629e-01, -3.28712783e-01],\n",
              "       [-7.80551846e-01, -7.07036908e-01],\n",
              "       [-6.63721018e-01, -5.91871192e-01],\n",
              "       [-6.51711357e-01, -5.38696915e-01],\n",
              "       [-6.24636945e-01, -3.34816973e-01],\n",
              "       [-5.07384725e-01, -6.00281409e-01],\n",
              "       [-5.88186569e-01,  4.68494416e-01],\n",
              "       [-8.23217747e-01, -7.78795051e-01],\n",
              "       [ 1.21241984e+00,  6.63828492e-01],\n",
              "       [ 7.27292733e-01, -6.85386456e-02],\n",
              "       [-5.77019691e-01, -6.00959652e-01],\n",
              "       [ 1.75585749e-01,  1.04955996e-01],\n",
              "       [ 7.09067545e-01,  2.58781581e-01],\n",
              "       [ 5.13120440e-01, -2.91002455e-01],\n",
              "       [-8.07836953e-01, -7.13005449e-01],\n",
              "       [-4.36274889e-01, -5.11702831e-01],\n",
              "       [ 1.99304782e+00,  1.34695516e+00],\n",
              "       [ 6.66560144e-02,  2.45081066e-01],\n",
              "       [ 1.25434831e+00,  9.30106820e-01],\n",
              "       [ 1.28389887e-01,  1.25438944e-01],\n",
              "       [-4.93373454e-01, -3.52858246e-01],\n",
              "       [-7.53056042e-01, -6.86553959e-01],\n",
              "       [-6.10625673e-01, -6.88995635e-01],\n",
              "       [ 5.77171967e-01,  3.90496434e-01],\n",
              "       [ 1.24992369e+00,  2.72189002e+00],\n",
              "       [-1.49096497e-01, -4.30366967e-02],\n",
              "       [ 1.24876487e+00,  2.55119067e-01],\n",
              "       [-2.85522035e-01, -6.22392141e-01],\n",
              "       [ 4.13250625e-01,  2.77908043e-01],\n",
              "       [-1.49096497e-01,  1.57587677e-01],\n",
              "       [-3.60108353e-01,  2.08048981e-01],\n",
              "       [-3.16705016e-01,  1.73458571e-01],\n",
              "       [-5.74280646e-01, -1.23205057e-01],\n",
              "       [ 9.85764299e-02,  3.25196092e-02],\n",
              "       [ 1.07420339e+00,  3.23260724e+00],\n",
              "       [ 2.70398865e-01,  3.71234323e-01],\n",
              "       [ 1.28721685e+00,  5.17550306e+00],\n",
              "       [-3.41461773e-01, -6.61730254e-01],\n",
              "       [-7.17659146e-01,  8.84068588e-02],\n",
              "       [-7.47683299e-01, -7.15582773e-01],\n",
              "       [ 1.96760678e-01,  2.99204883e-01],\n",
              "       [ 3.93550567e-01,  2.49964418e-01],\n",
              "       [ 3.76168162e-01,  7.84148857e-01],\n",
              "       [-6.28956209e-01,  6.15484233e-02],\n",
              "       [-6.92164952e-01, -7.46239371e-01],\n",
              "       [-6.00512274e-01, -5.88073029e-01],\n",
              "       [ 1.30006930e+00, -3.13520133e-01],\n",
              "       [-5.24345738e-01, -6.48979279e-01],\n",
              "       [-2.86680862e-01, -8.91572425e-02],\n",
              "       [-3.21761715e-01,  1.91635492e-01],\n",
              "       [ 2.57019681e-01,  1.76442842e-01],\n",
              "       [-1.18756300e-01, -4.94068505e-01],\n",
              "       [-6.15155633e-01, -4.76976773e-01],\n",
              "       [ 1.59873061e+00,  1.00973259e+00],\n",
              "       [ 1.76528565e+00,  1.16694939e+00],\n",
              "       [ 1.62101217e-01,  7.71940477e-01],\n",
              "       [-6.04199451e-01, -6.93336392e-01],\n",
              "       [-2.87102254e-01, -6.65392768e-01],\n",
              "       [ 1.64813878e+00,  8.02325778e-01],\n",
              "       [-7.37569900e-01, -6.80449769e-01],\n",
              "       [-1.96187011e-01, -1.43688005e-01],\n",
              "       [-2.22629335e-01, -2.77844534e-01],\n",
              "       [ 9.28717929e-01,  9.40416118e-01],\n",
              "       [-6.90900778e-01, -5.29201509e-01],\n",
              "       [ 3.34402937e+00,  3.05612833e+00],\n",
              "       [-6.20423028e-01, -6.48979279e-01],\n",
              "       [-1.14858428e-01,  1.09296753e-01],\n",
              "       [ 3.59523193e-01,  1.02378671e-01],\n",
              "       [ 7.99245353e-01,  6.74002142e-01],\n",
              "       [ 3.00607329e+00,  1.46537645e+00],\n",
              "       [-6.22108595e-01, -5.86173948e-01],\n",
              "       [ 7.64164500e-01,  2.31651848e-01],\n",
              "       [-6.91216821e-01, -7.36472668e-01],\n",
              "       [-6.92059605e-01, -6.64307578e-01],\n",
              "       [ 2.83883397e-01,  2.31516199e-01],\n",
              "       [-5.36776791e-01, -6.35007467e-01],\n",
              "       [-2.82993686e-01, -4.43471553e-01],\n",
              "       [-6.79733900e-01, -6.96863258e-01],\n",
              "       [-3.99719165e-01, -3.46347110e-01],\n",
              "       [ 1.32814499e-01,  1.69200128e-02],\n",
              "       [-6.72991634e-01, -4.87286072e-01],\n",
              "       [-7.77391408e-01, -7.07986448e-01],\n",
              "       [-5.74175298e-01, -4.13764496e-01],\n",
              "       [-2.46121918e-01,  2.61441220e-02],\n",
              "       [-4.34378626e-01,  6.62200708e-01],\n",
              "       [-4.33325147e-01, -5.44801105e-01],\n",
              "       [-4.88316754e-01, -1.10182785e-01],\n",
              "       [-4.33851887e-01, -4.19597388e-01],\n",
              "       [-5.40147924e-01,  7.91827496e-02],\n",
              "       [-5.16655341e-01, -6.75023823e-01],\n",
              "       [-7.75179102e-01, -2.65636155e-01],\n",
              "       [-7.76021886e-01, -7.21822612e-01],\n",
              "       [-4.39540674e-01, -4.38045607e-01],\n",
              "       [-9.58958046e-02, -3.01311753e-01],\n",
              "       [-5.76914343e-01, -5.41952483e-01],\n",
              "       [-5.30666613e-01, -6.96863258e-01],\n",
              "       [-2.98374480e-01, -3.01176105e-01],\n",
              "       [ 3.01897888e-01,  2.68412636e-01],\n",
              "       [ 6.28371049e-01,  4.85261515e-02],\n",
              "       [-6.50447182e-01, -4.56900771e-01],\n",
              "       [-7.86135285e-01, -7.39321290e-01],\n",
              "       [-5.84183349e-01, -7.01664296e-02],\n",
              "       [-6.19580245e-01, -2.71469047e-01],\n",
              "       [-6.48129528e-01, -5.15907940e-01],\n",
              "       [ 2.70056436e+00,  2.35170482e+00],\n",
              "       [-3.38301336e-01, -5.33949212e-01],\n",
              "       [ 9.49682162e-01,  2.93643288e-01],\n",
              "       [-3.37458553e-01,  1.65162206e+00],\n",
              "       [-6.80155291e-01, -7.19923531e-01],\n",
              "       [-2.84679252e-01, -1.06927218e-01],\n",
              "       [-6.39280304e-01, -5.24318157e-01],\n",
              "       [-6.13891458e-01, -1.67290873e-01],\n",
              "       [-6.48181723e-02, -1.13574002e-01],\n",
              "       [-6.10414977e-01, -1.23612003e-01],\n",
              "       [-7.22399801e-01, -6.35685710e-01],\n",
              "       [-6.60981972e-01, -6.00145760e-01],\n",
              "       [-1.33505007e-01, -6.35007467e-01],\n",
              "       [ 7.89447997e-01,  5.26687692e-01],\n",
              "       [ 6.05510554e-01,  2.40515039e+00],\n",
              "       [ 1.49917684e+00,  5.38082180e-01],\n",
              "       [-5.66274205e-01, -6.20493060e-01],\n",
              "       [ 1.25318948e+00,  3.06122965e-01],\n",
              "       [-7.17764494e-01, -7.51258372e-01],\n",
              "       [-7.34936202e-01, -6.46266306e-01],\n",
              "       [-6.72991634e-01, -1.07062866e-01],\n",
              "       [-1.14015644e-01,  3.42748104e-01],\n",
              "       [-6.80365987e-01, -3.73205545e-01],\n",
              "       [-6.43704916e-01, -5.55246052e-01],\n",
              "       [-8.14157828e-01, -5.67861378e-01],\n",
              "       [-1.04007593e-01, -2.77708886e-01],\n",
              "       [-7.65697791e-01, -6.73802985e-01],\n",
              "       [-5.69750686e-01, -4.71957773e-01],\n",
              "       [ 1.83592190e-01,  5.47659901e-02],\n",
              "       [-5.81549651e-01, -3.95044980e-01],\n",
              "       [-1.80806217e-01,  1.77934977e-01],\n",
              "       [-3.89711114e-01, -2.48408774e-01],\n",
              "       [-6.25585076e-01, -2.96157104e-01],\n",
              "       [ 4.90681336e-01, -1.87909470e-01],\n",
              "       [-4.58397949e-01, -6.99440582e-01],\n",
              "       [-7.06808311e-01, -4.81453179e-01],\n",
              "       [-5.39726532e-01, -5.01122235e-01],\n",
              "       [-7.01119524e-01, -7.05680421e-01],\n",
              "       [-7.88031547e-01, -7.47460209e-01],\n",
              "       [-5.59321243e-01, -4.93254613e-01],\n",
              "       [-4.94110889e-01, -3.31290108e-01],\n",
              "       [-3.81599326e-01, -3.67643950e-01],\n",
              "       [ 4.75932629e-01,  7.19851390e-01],\n",
              "       [-1.47621626e-01, -5.13194967e-01],\n",
              "       [-2.86259471e-01, -5.28930212e-01],\n",
              "       [-4.53867989e-01, -6.09369869e-01],\n",
              "       [-1.01689939e-01, -3.52315651e-01],\n",
              "       [ 2.12141473e-01, -1.67697819e-01],\n",
              "       [-6.20633724e-01, -6.67020552e-01],\n",
              "       [-1.67637729e-01,  6.05988826e-02],\n",
              "       [ 1.31134152e+00,  1.02004188e+00],\n",
              "       [ 1.93178849e-01, -6.70465103e-02],\n",
              "       [ 6.19205781e-01, -2.85983454e-01],\n",
              "       [ 1.77213326e+00,  2.25683307e-01],\n",
              "       [ 9.48892532e-02,  9.68902337e-01],\n",
              "       [ 1.43470392e+00,  9.59135634e-01],\n",
              "       [-5.38251662e-01, -4.64225799e-01],\n",
              "       [-5.20869257e-01, -6.47894090e-01],\n",
              "       [ 5.91604630e-01,  2.01556743e+00],\n",
              "       [-5.84288697e-01, -5.83867921e-01],\n",
              "       [ 3.46302510e-02, -4.69516097e-01],\n",
              "       [ 1.18207964e+00, -2.79336670e-01],\n",
              "       [-5.84288697e-01, -6.60780713e-01],\n",
              "       [-3.20549735e-02, -5.42766375e-01],\n",
              "       [ 4.18518020e-01,  1.24603256e+00],\n",
              "       [-6.05779670e-01, -5.99738814e-01],\n",
              "       [-1.93553313e-01, -3.67372653e-01],\n",
              "       [-4.62822561e-01, -4.18240902e-01],\n",
              "       [ 1.02121339e+00,  2.61459193e+00],\n",
              "       [-5.97457185e-01, -2.84898265e-01],\n",
              "       [-2.93317780e-01, -5.28930212e-01],\n",
              "       [-4.88422102e-01, -6.89538230e-01],\n",
              "       [ 3.83647864e-01, -6.58203388e-01],\n",
              "       [-5.78073170e-01, -2.99683969e-01],\n",
              "       [ 5.97820156e-01,  1.49047145e+00],\n",
              "       [-6.86897557e-01, -5.67861378e-01],\n",
              "       [-6.62351495e-01, -6.64307578e-01],\n",
              "       [-4.80626357e-01, -4.86607828e-01],\n",
              "       [-3.54840957e-01, -5.84681812e-01],\n",
              "       [-2.99427959e-01, -5.43987213e-01],\n",
              "       [ 1.98978204e+00,  1.23233204e+00],\n",
              "       [-6.85211991e-01, -3.50009624e-01],\n",
              "       [ 6.25205297e+00, -1.10725380e-01],\n",
              "       [-5.48681104e-01, -6.60373767e-01],\n",
              "       [ 2.99053495e-01,  1.38461216e-01],\n",
              "       [-6.97537696e-01, -5.81290596e-01],\n",
              "       [-5.62587028e-01, -6.03536977e-01],\n",
              "       [-9.80027627e-02, -7.41084722e-01],\n",
              "       [-2.75935376e-01, -6.25105114e-01],\n",
              "       [ 1.81063840e-01, -2.40269854e-01],\n",
              "       [ 3.46249357e-01, -4.51247613e-03],\n",
              "       [-2.13674763e-01, -5.19071945e-03],\n",
              "       [ 1.93468508e+00,  1.58401569e-01],\n",
              "       [-6.51922052e-01, -6.27275493e-01],\n",
              "       [ 4.04243858e-02, -4.33297903e-01],\n",
              "       [ 7.99561396e-01,  1.55010353e-01],\n",
              "       [ 4.59287660e-01,  1.88244276e-01],\n",
              "       [-6.24004857e-01, -4.63411907e-01],\n",
              "       [ 1.32419397e+00,  1.19977636e+00],\n",
              "       [-6.27270642e-01, -6.37177845e-01],\n",
              "       [ 1.51097581e+00,  5.76199455e-01],\n",
              "       [-6.76152071e-01, -6.36228305e-01],\n",
              "       [ 1.39604124e+00,  6.34475046e-02],\n",
              "       [-5.69223946e-01,  2.16594846e-01],\n",
              "       [-6.25690424e-01, -6.87639149e-01],\n",
              "       [-8.14684567e-01, -7.68078806e-01],\n",
              "       [ 1.50865815e+00, -6.13303681e-01],\n",
              "       [-6.62772887e-01,  1.74549094e+00],\n",
              "       [-6.15471677e-01,  1.10871202e-02],\n",
              "       [-6.26322511e-01, -3.96672764e-01],\n",
              "       [-7.46629820e-01, -7.03916988e-01],\n",
              "       [-5.79231997e-01, -5.69082216e-01],\n",
              "       [-3.70116404e-01, -6.51014009e-01],\n",
              "       [-6.77100202e-01, -6.67834444e-01],\n",
              "       [ 7.76653494e-03,  4.49992863e-02],\n",
              "       [-6.62351495e-01, -4.85522639e-01],\n",
              "       [-7.81394629e-01, -6.64985822e-01],\n",
              "       [-5.84183349e-01, -6.24019925e-01],\n",
              "       [-7.65697791e-01, -7.40542128e-01],\n",
              "       [-3.15651536e-01, -2.51257396e-01],\n",
              "       [-6.33380821e-01, -5.30286698e-01],\n",
              "       [-6.64774497e-01, -2.70655155e-01],\n",
              "       [-5.82866021e-02,  6.24979639e-02],\n",
              "       [-6.61930103e-01, -4.80232341e-01],\n",
              "       [-7.15236144e-01, -5.89565164e-01],\n",
              "       [ 5.93606240e-01,  3.84392244e-01],\n",
              "       [-5.58689156e-01, -3.58419841e-01],\n",
              "       [-6.37278693e-01, -3.39429028e-01],\n",
              "       [ 2.57019681e-01, -8.57660259e-02],\n",
              "       [-6.11573804e-01, -6.58203388e-01],\n",
              "       [-6.67302847e-01, -1.63492710e-01],\n",
              "       [ 5.45410052e-02,  2.22292090e-01],\n",
              "       [-4.74200135e-01, -6.01230950e-01],\n",
              "       [ 7.84707342e-01,  2.17875277e+00],\n",
              "       [-6.67618890e-01, -6.61187659e-01],\n",
              "       [-5.36671443e-01, -2.95207563e-01],\n",
              "       [-6.71938154e-01, -5.26352887e-01],\n",
              "       [-7.14182665e-01, -6.71225660e-01],\n",
              "       [-6.87845688e-01, -5.78713271e-01],\n",
              "       [-6.97748391e-01, -6.26054655e-01],\n",
              "       [-5.93980704e-01, -4.11729766e-01],\n",
              "       [-4.58397949e-01, -2.19244311e-01],\n",
              "       [-4.32903756e-01,  1.26659782e-01],\n",
              "       [-5.00115720e-01, -6.68919633e-01],\n",
              "       [-7.04596005e-01, -6.07742085e-01],\n",
              "       [ 1.46825771e-01,  8.40307404e-01],\n",
              "       [-6.87213601e-01, -5.60265053e-01],\n",
              "       [-7.76337929e-01, -6.46266306e-01],\n",
              "       [-7.39150119e-01, -7.07986448e-01],\n",
              "       [-7.07229703e-01, -6.63358038e-01],\n",
              "       [-6.13470067e-01, -4.06303819e-01],\n",
              "       [-3.01324221e-01, -1.41517627e-01],\n",
              "       [-3.52628651e-01,  7.06693470e-01],\n",
              "       [-4.74832222e-01, -1.60508440e-01],\n",
              "       [-7.14709404e-01, -6.44367225e-01],\n",
              "       [-3.08171835e-01, -1.06655920e-01],\n",
              "       [ 1.13056452e+00,  9.56015714e-01],\n",
              "       [-1.62686377e-01, -2.59938911e-01],\n",
              "       [-1.95028184e-01, -2.93308482e-01],\n",
              "       [-3.56947916e-01, -5.01936127e-01],\n",
              "       [-4.92003931e-01, -3.40107271e-01],\n",
              "       [ 4.68663624e-01, -2.97242293e-01],\n",
              "       [-1.38877750e-01, -1.27138868e-01],\n",
              "       [-4.77676616e-01, -5.16314886e-01],\n",
              "       [ 6.32848814e-02,  3.38760958e-02],\n",
              "       [ 3.11484548e-01,  6.97740658e-01],\n",
              "       [ 3.26970690e-01, -4.03237235e-02],\n",
              "       [ 1.12413829e+00,  3.65944026e-01],\n",
              "       [-6.03462016e-01, -2.73096831e-01],\n",
              "       [ 5.55786342e-01, -7.19298622e-02],\n",
              "       [ 1.16064182e-01, -1.28766652e-01],\n",
              "       [-3.98138947e-01, -5.99467517e-01],\n",
              "       [-3.47045212e-01, -2.86254751e-01],\n",
              "       [ 4.50965175e-01, -3.95044980e-01],\n",
              "       [-5.64483290e-01, -4.59613744e-01],\n",
              "       [ 6.70510212e-01,  4.81652336e-01],\n",
              "       [-2.65716629e-01,  1.47731353e+00],\n",
              "       [-3.20392192e-01,  2.35667973e-02],\n",
              "       [-4.60504907e-01, -5.48870565e-01],\n",
              "       [ 8.98799124e-01, -2.12461878e-01],\n",
              "       [-2.94055216e-01, -3.93741828e-02],\n",
              "       [-3.36826466e-01, -6.28631980e-01],\n",
              "       [-6.80365987e-01, -3.49738326e-01],\n",
              "       [ 4.50074986e-03, -2.54241667e-01],\n",
              "       [ 8.50760479e-01,  8.48446324e-01],\n",
              "       [-7.57164610e-01, -5.92142489e-01],\n",
              "       [ 2.34838631e+00,  1.31467078e+00],\n",
              "       [-6.02513884e-01, -5.17535724e-01],\n",
              "       [-5.73227167e-01, -5.55924296e-01]])"
            ]
          },
          "metadata": {},
          "execution_count": 14
        }
      ]
    },
    {
      "cell_type": "code",
      "source": [
        "from sklearn.mixture import GaussianMixture\n",
        "gmm = GaussianMixture(n_components=2).fit(std_df)\n",
        "labels = gmm.predict(std_df)\n",
        "plt.scatter(std_df[:, 0], std_df[:, 1], c=labels, s=40, cmap='viridis');"
      ],
      "metadata": {
        "colab": {
          "base_uri": "https://localhost:8080/",
          "height": 787
        },
        "id": "7hd1TyS8WTrK",
        "outputId": "bbef87e2-a657-4545-d29b-62cfc4a8e9f8"
      },
      "execution_count": null,
      "outputs": [
        {
          "output_type": "display_data",
          "data": {
            "text/plain": [
              "<Figure size 1600x1200 with 1 Axes>"
            ],
            "image/png": "[encoded data removed]"
          },
          "metadata": {}
        }
      ]
    },
    {
      "cell_type": "markdown",
      "source": [
        "##### **Comparing with K-Means**"
      ],
      "metadata": {
        "id": "mW9VglplYQjL"
      }
    },
    {
      "cell_type": "code",
      "source": [
        "from sklearn.cluster import KMeans\n",
        "\n",
        "k = 2 ## arbitrary value\n",
        "kmeans = KMeans(n_clusters=k)\n",
        "y_pred = kmeans.fit_predict(std_df)"
      ],
      "metadata": {
        "id": "qFvkihdRXrDT",
        "colab": {
          "base_uri": "https://localhost:8080/"
        },
        "outputId": "53621345-6bc0-45db-e348-161e8f1f6c06"
      },
      "execution_count": null,
      "outputs": [
        {
          "output_type": "stream",
          "name": "stderr",
          "text": [
            "/usr/local/lib/python3.10/dist-packages/sklearn/cluster/_kmeans.py:870: FutureWarning: The default value of `n_init` will change from 10 to 'auto' in 1.4. Set the value of `n_init` explicitly to suppress the warning\n",
            "  warnings.warn(\n"
          ]
        }
      ]
    },
    {
      "cell_type": "code",
      "source": [
        "clusters = df.copy()\n",
        "clusters['label'] = kmeans.labels_"
      ],
      "metadata": {
        "id": "OJ4EyrFiXvHt"
      },
      "execution_count": null,
      "outputs": []
    },
    {
      "cell_type": "code",
      "source": [
        "plt.scatter(clusters['Grocery'], clusters['Milk'], c=clusters['label'])"
      ],
      "metadata": {
        "colab": {
          "base_uri": "https://localhost:8080/",
          "height": 784
        },
        "id": "ksCSpnVWXy0Y",
        "outputId": "6f1ae2cb-cbf3-49c8-ae82-28cf66bd19ba"
      },
      "execution_count": null,
      "outputs": [
        {
          "output_type": "execute_result",
          "data": {
            "text/plain": [
              "<matplotlib.collections.PathCollection at 0x7c66e3649030>"
            ]
          },
          "metadata": {},
          "execution_count": 12
        },
        {
          "output_type": "display_data",
          "data": {
            "text/plain": [
              "<Figure size 1600x1200 with 1 Axes>"
            ],
            "image/png": "[encoded data removed]"
          },
          "metadata": {}
        }
      ]
    }
  ]
}